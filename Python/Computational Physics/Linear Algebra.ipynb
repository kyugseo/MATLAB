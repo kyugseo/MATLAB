{
 "cells": [
  {
   "cell_type": "code",
   "execution_count": 4,
   "metadata": {},
   "outputs": [
    {
     "name": "stdout",
     "output_type": "stream",
     "text": [
      "Populating the interactive namespace from numpy and matplotlib\n"
     ]
    }
   ],
   "source": [
    "%pylab inline"
   ]
  },
  {
   "cell_type": "code",
   "execution_count": 2,
   "metadata": {},
   "outputs": [],
   "source": [
    "import scipy.linalg as la"
   ]
  },
  {
   "cell_type": "markdown",
   "metadata": {},
   "source": [
    "## Vector/Matrix Operations"
   ]
  },
  {
   "cell_type": "code",
   "execution_count": 3,
   "metadata": {},
   "outputs": [
    {
     "name": "stdout",
     "output_type": "stream",
     "text": [
      "[1.1, -2.1, 0.0, 2.0, 1.1, -0.5]\n"
     ]
    }
   ],
   "source": [
    "a = [1.1, -2.1, 0.0]\n",
    "b = [2.0, 1.1, -0.5]\n",
    "print(a + b)"
   ]
  },
  {
   "cell_type": "code",
   "execution_count": 5,
   "metadata": {},
   "outputs": [
    {
     "name": "stdout",
     "output_type": "stream",
     "text": [
      "[ 3.1 -1.  -0.5]\n"
     ]
    }
   ],
   "source": [
    "aarray = array(a)\n",
    "barray = array(b)\n",
    "print(aarray+barray)"
   ]
  },
  {
   "cell_type": "code",
   "execution_count": 6,
   "metadata": {},
   "outputs": [
    {
     "ename": "TypeError",
     "evalue": "unsupported operand type(s) for -: 'list' and 'list'",
     "output_type": "error",
     "traceback": [
      "\u001b[0;31m---------------------------------------------------------------------------\u001b[0m",
      "\u001b[0;31mTypeError\u001b[0m                                 Traceback (most recent call last)",
      "\u001b[0;32m<ipython-input-6-79d7536db118>\u001b[0m in \u001b[0;36m<module>\u001b[0;34m\u001b[0m\n\u001b[0;32m----> 1\u001b[0;31m \u001b[0mprint\u001b[0m\u001b[0;34m(\u001b[0m\u001b[0ma\u001b[0m \u001b[0;34m-\u001b[0m\u001b[0mb\u001b[0m\u001b[0;34m)\u001b[0m\u001b[0;34m\u001b[0m\u001b[0;34m\u001b[0m\u001b[0m\n\u001b[0m",
      "\u001b[0;31mTypeError\u001b[0m: unsupported operand type(s) for -: 'list' and 'list'"
     ]
    }
   ],
   "source": [
    "print(a -b) # since this is not array, there is type error"
   ]
  },
  {
   "cell_type": "code",
   "execution_count": 7,
   "metadata": {},
   "outputs": [
    {
     "name": "stdout",
     "output_type": "stream",
     "text": [
      "[-0.9 -3.2  0.5]\n"
     ]
    }
   ],
   "source": [
    "print(aarray-barray) # now it works! "
   ]
  },
  {
   "cell_type": "code",
   "execution_count": 8,
   "metadata": {},
   "outputs": [
    {
     "ename": "TypeError",
     "evalue": "can't multiply sequence by non-int of type 'float'",
     "output_type": "error",
     "traceback": [
      "\u001b[0;31m---------------------------------------------------------------------------\u001b[0m",
      "\u001b[0;31mTypeError\u001b[0m                                 Traceback (most recent call last)",
      "\u001b[0;32m<ipython-input-8-f53ca0603cd6>\u001b[0m in \u001b[0;36m<module>\u001b[0;34m\u001b[0m\n\u001b[1;32m      1\u001b[0m \u001b[0mv\u001b[0m \u001b[0;34m=\u001b[0m \u001b[0;34m[\u001b[0m\u001b[0;36m1.0\u001b[0m\u001b[0;34m,\u001b[0m \u001b[0;34m-\u001b[0m\u001b[0;36m2.1\u001b[0m\u001b[0;34m,\u001b[0m \u001b[0;36m3.0\u001b[0m\u001b[0;34m]\u001b[0m\u001b[0;34m\u001b[0m\u001b[0;34m\u001b[0m\u001b[0m\n\u001b[0;32m----> 2\u001b[0;31m \u001b[0mprint\u001b[0m\u001b[0;34m(\u001b[0m\u001b[0;36m2.3\u001b[0m\u001b[0;34m*\u001b[0m\u001b[0mv\u001b[0m\u001b[0;34m)\u001b[0m\u001b[0;34m\u001b[0m\u001b[0;34m\u001b[0m\u001b[0m\n\u001b[0m",
      "\u001b[0;31mTypeError\u001b[0m: can't multiply sequence by non-int of type 'float'"
     ]
    }
   ],
   "source": [
    "v = [1.0, -2.1, 3.0]\n",
    "print(2.0*v) #again, error"
   ]
  },
  {
   "cell_type": "code",
   "execution_count": 9,
   "metadata": {},
   "outputs": [
    {
     "name": "stdout",
     "output_type": "stream",
     "text": [
      "[ 2.  -4.2  6. ]\n"
     ]
    }
   ],
   "source": [
    "print(2.0*array([1.0, -2.1, 3.0])) #now it works! "
   ]
  },
  {
   "cell_type": "code",
   "execution_count": 10,
   "metadata": {},
   "outputs": [
    {
     "name": "stdout",
     "output_type": "stream",
     "text": [
      "[ 2.2  -2.31 -0.  ]\n"
     ]
    }
   ],
   "source": [
    "print (aarray*barray)"
   ]
  },
  {
   "cell_type": "code",
   "execution_count": 11,
   "metadata": {},
   "outputs": [
    {
     "data": {
      "text/plain": [
       "-0.11000000000000032"
      ]
     },
     "execution_count": 11,
     "metadata": {},
     "output_type": "execute_result"
    }
   ],
   "source": [
    "dot(aarray,barray)"
   ]
  },
  {
   "cell_type": "code",
   "execution_count": 12,
   "metadata": {},
   "outputs": [
    {
     "data": {
      "text/plain": [
       "-0.11000000000000032"
      ]
     },
     "execution_count": 12,
     "metadata": {},
     "output_type": "execute_result"
    }
   ],
   "source": [
    "sum(aarray*barray) # dot(aarray,barray) = sum(aarray,barray)"
   ]
  },
  {
   "cell_type": "code",
   "execution_count": 13,
   "metadata": {},
   "outputs": [],
   "source": [
    "sx = array([[0., 1.],[1., 0.]])\n",
    "sz = array([[1., 0.],[0., -1.]])"
   ]
  },
  {
   "cell_type": "code",
   "execution_count": 18,
   "metadata": {},
   "outputs": [
    {
     "data": {
      "text/plain": [
       "array([[ 0., -1.],\n",
       "       [ 1.,  0.]])"
      ]
     },
     "execution_count": 18,
     "metadata": {},
     "output_type": "execute_result"
    }
   ],
   "source": [
    "dot(sx, sz)"
   ]
  },
  {
   "cell_type": "code",
   "execution_count": 19,
   "metadata": {},
   "outputs": [
    {
     "data": {
      "text/plain": [
       "array([[ 0.,  0.],\n",
       "       [ 0., -0.]])"
      ]
     },
     "execution_count": 19,
     "metadata": {},
     "output_type": "execute_result"
    }
   ],
   "source": [
    "sx*sz # they are not same"
   ]
  },
  {
   "cell_type": "code",
   "execution_count": 20,
   "metadata": {},
   "outputs": [
    {
     "data": {
      "text/plain": [
       "array([[ 0., -1.],\n",
       "       [-1.,  0.]])"
      ]
     },
     "execution_count": 20,
     "metadata": {},
     "output_type": "execute_result"
    }
   ],
   "source": [
    "dot(sz, dot(sx, sz))"
   ]
  },
  {
   "cell_type": "code",
   "execution_count": 23,
   "metadata": {},
   "outputs": [
    {
     "name": "stdout",
     "output_type": "stream",
     "text": [
      "2.3706539182259396\n",
      "2.3706539182259396\n"
     ]
    }
   ],
   "source": [
    "print(norm(aarray))\n",
    "print(sqrt(dot(aarray,aarray))) #get same answer "
   ]
  },
  {
   "cell_type": "code",
   "execution_count": 24,
   "metadata": {},
   "outputs": [
    {
     "data": {
      "text/plain": [
       "array([1.05, 0.55, 5.41])"
      ]
     },
     "execution_count": 24,
     "metadata": {},
     "output_type": "execute_result"
    }
   ],
   "source": [
    "cross(aarray,barray)"
   ]
  },
  {
   "cell_type": "code",
   "execution_count": 26,
   "metadata": {},
   "outputs": [
    {
     "data": {
      "text/plain": [
       "array([1.05, 0.55, 5.41])"
      ]
     },
     "execution_count": 26,
     "metadata": {},
     "output_type": "execute_result"
    }
   ],
   "source": [
    "array([aarray[1]*barray[2]-barray[1]*aarray[2], -aarray[0]*barray[2] + barray[0]*aarray[2], aarray[0]*barray[1] - aarray[1]*barray[0]])"
   ]
  },
  {
   "cell_type": "markdown",
   "metadata": {},
   "source": [
    "## LU decomposition"
   ]
  },
  {
   "cell_type": "code",
   "execution_count": 34,
   "metadata": {},
   "outputs": [
    {
     "data": {
      "text/plain": [
       "array([-0.65803862, -0.88832284,  1.51616721,  1.00202952,  0.85170887])"
      ]
     },
     "execution_count": 34,
     "metadata": {},
     "output_type": "execute_result"
    }
   ],
   "source": [
    "A = random.rand(5,5)\n",
    "b= random.rand(5)\n",
    "la.solve(A, b)"
   ]
  },
  {
   "cell_type": "code",
   "execution_count": 44,
   "metadata": {},
   "outputs": [],
   "source": [
    "p,l,u=la.lu(A)"
   ]
  },
  {
   "cell_type": "code",
   "execution_count": 46,
   "metadata": {},
   "outputs": [
    {
     "data": {
      "text/plain": [
       "array([[0.64997363, 0.5441527 , 0.72565635, 0.00486522, 0.75629515],\n",
       "       [0.13841947, 0.39726967, 0.09411607, 0.57995203, 0.3680251 ],\n",
       "       [0.97155418, 0.35093277, 0.44466444, 0.89675921, 0.28207831],\n",
       "       [0.5753963 , 0.59486589, 0.48547546, 0.39683115, 0.06329098],\n",
       "       [0.63394284, 0.29285002, 0.04060046, 0.29808772, 0.80715729]])"
      ]
     },
     "execution_count": 46,
     "metadata": {},
     "output_type": "execute_result"
    }
   ],
   "source": [
    "dot(p,dot(l,u))"
   ]
  },
  {
   "cell_type": "code",
   "execution_count": 47,
   "metadata": {},
   "outputs": [
    {
     "data": {
      "text/plain": [
       "array([[0.64997363, 0.5441527 , 0.72565635, 0.00486522, 0.75629515],\n",
       "       [0.13841947, 0.39726967, 0.09411607, 0.57995203, 0.3680251 ],\n",
       "       [0.97155418, 0.35093277, 0.44466444, 0.89675921, 0.28207831],\n",
       "       [0.5753963 , 0.59486589, 0.48547546, 0.39683115, 0.06329098],\n",
       "       [0.63394284, 0.29285002, 0.04060046, 0.29808772, 0.80715729]])"
      ]
     },
     "execution_count": 47,
     "metadata": {},
     "output_type": "execute_result"
    }
   ],
   "source": [
    "A"
   ]
  },
  {
   "cell_type": "code",
   "execution_count": 54,
   "metadata": {},
   "outputs": [],
   "source": [
    "bprime=dot(la.inv(p),b)\n",
    "y=la.solve(l,bprime)"
   ]
  },
  {
   "cell_type": "code",
   "execution_count": 55,
   "metadata": {},
   "outputs": [
    {
     "data": {
      "text/plain": [
       "array([-0.65803862, -0.88832284,  1.51616721,  1.00202952,  0.85170887])"
      ]
     },
     "execution_count": 55,
     "metadata": {},
     "output_type": "execute_result"
    }
   ],
   "source": [
    "la.solve(u,y) #same as la.solve(A, b)"
   ]
  },
  {
   "cell_type": "markdown",
   "metadata": {},
   "source": [
    "## Resistor chain circuit"
   ]
  },
  {
   "cell_type": "code",
   "execution_count": 46,
   "metadata": {},
   "outputs": [],
   "source": [
    "def resistor(N,V0):\n",
    "    \n",
    "    b=zeros(N)\n",
    "    b[0]=V0\n",
    "    b[1]=V0\n",
    "    A=zeros((N,N))\n",
    "    for i in range(N):\n",
    "        \n",
    "        jmin = max(0, i-2)   \n",
    "        jmax = min(N, i+3)   # right most-column\n",
    "        for j in range(jmin, jmax):\n",
    "            A[i,j] = -1.0\n",
    "        if i == 0 or i==N-1:\n",
    "            A[i,i] = 3.0\n",
    "        else:\n",
    "            A[i,i] = 4.0\n",
    "    return A,b\n"
   ]
  },
  {
   "cell_type": "code",
   "execution_count": 50,
   "metadata": {},
   "outputs": [
    {
     "name": "stdout",
     "output_type": "stream",
     "text": [
      "[[ 3. -1. -1.  0.  0.  0.]\n",
      " [-1.  4. -1. -1.  0.  0.]\n",
      " [-1. -1.  4. -1. -1.  0.]\n",
      " [ 0. -1. -1.  4. -1. -1.]\n",
      " [ 0.  0. -1. -1.  4. -1.]\n",
      " [ 0.  0.  0. -1. -1.  3.]]\n",
      "[4. 4. 0. 0. 0. 0.]\n",
      "[2.98039216 2.74509804 2.19607843 1.80392157 1.25490196 1.01960784]\n"
     ]
    }
   ],
   "source": [
    "V0=4.0\n",
    "N=6\n",
    "A,b =resistor(N,V0)\n",
    "print(A)\n",
    "print(b)\n",
    "sol=la.solve(A,b)\n",
    "print(sol)"
   ]
  },
  {
   "cell_type": "code",
   "execution_count": 51,
   "metadata": {},
   "outputs": [
    {
     "name": "stdout",
     "output_type": "stream",
     "text": [
      "[[ 3. -1. -1. ...  0.  0.  0.]\n",
      " [-1.  4. -1. ...  0.  0.  0.]\n",
      " [-1. -1.  4. ...  0.  0.  0.]\n",
      " ...\n",
      " [ 0.  0.  0. ...  4. -1. -1.]\n",
      " [ 0.  0.  0. ... -1.  4. -1.]\n",
      " [ 0.  0.  0. ... -1. -1.  3.]]\n",
      "\n",
      "[4. 4. 0. 0. 0. 0. 0. 0. 0. 0. 0. 0. 0. 0. 0. 0. 0. 0. 0. 0. 0. 0. 0. 0.\n",
      " 0. 0. 0. 0. 0. 0. 0. 0. 0. 0. 0. 0. 0. 0. 0. 0. 0. 0. 0. 0. 0. 0. 0. 0.\n",
      " 0. 0. 0. 0. 0. 0. 0. 0. 0. 0. 0. 0. 0. 0. 0. 0. 0. 0. 0. 0. 0. 0. 0. 0.\n",
      " 0. 0. 0. 0. 0. 0. 0. 0. 0. 0. 0. 0. 0. 0. 0. 0. 0. 0. 0. 0. 0. 0. 0. 0.\n",
      " 0. 0. 0. 0.]\n"
     ]
    },
    {
     "data": {
      "text/plain": [
       "[<matplotlib.lines.Line2D at 0x7f308b04e810>]"
      ]
     },
     "execution_count": 51,
     "metadata": {},
     "output_type": "execute_result"
    },
    {
     "data": {
      "image/png": "[encoded data removed]",
      "text/plain": [
       "<Figure size 432x288 with 1 Axes>"
      ]
     },
     "metadata": {
      "needs_background": "light"
     },
     "output_type": "display_data"
    }
   ],
   "source": [
    "#try N=100, V0=4\n",
    "N=100\n",
    "V=4.0\n",
    "A, b =resistor(N,V0)\n",
    "sol=la.solve(A, b)\n",
    "print(A)\n",
    "print()\n",
    "print(b)\n",
    "\n",
    "plot(sol)"
   ]
  },
  {
   "cell_type": "code",
   "execution_count": 54,
   "metadata": {},
   "outputs": [],
   "source": [
    "\n",
    "N = 10000\n",
    "V0=4.0\n",
    "ab = zeros((5, N))\n",
    "ab[0,2:] = -1.0*ones(N-2)\n",
    "ab[1,1:] =  -1.0*ones(N-1) \n",
    "\n",
    "# diagonal\n",
    "ab[2] = 4.0*ones(N)\n",
    "ab[2,0] = 3.0\n",
    "ab[2,-1] = 3.0\n",
    "ab[3,:-1] = -1.0*ones(N-1)\n",
    "ab[4,:-2]= -1.0*ones(N-2)\n",
    "b=zeros(N)\n",
    "\n",
    "b[0]=V0\n",
    "b[1]=V0"
   ]
  },
  {
   "cell_type": "code",
   "execution_count": 56,
   "metadata": {},
   "outputs": [],
   "source": [
    "sol = la.solve_banded((2,2), ab, b)"
   ]
  },
  {
   "cell_type": "code",
   "execution_count": 57,
   "metadata": {},
   "outputs": [
    {
     "data": {
      "text/plain": [
       "[<matplotlib.lines.Line2D at 0x7f308afbbed0>]"
      ]
     },
     "execution_count": 57,
     "metadata": {},
     "output_type": "execute_result"
    },
    {
     "data": {
      "image/png": "[encoded data removed]",
      "text/plain": [
       "<Figure size 432x288 with 1 Axes>"
      ]
     },
     "metadata": {
      "needs_background": "light"
     },
     "output_type": "display_data"
    }
   ],
   "source": [
    "plot(sol)"
   ]
  },
  {
   "cell_type": "markdown",
   "metadata": {},
   "source": [
    "## Resistor capacitor circuit"
   ]
  },
  {
   "cell_type": "code",
   "execution_count": 59,
   "metadata": {},
   "outputs": [
    {
     "name": "stdout",
     "output_type": "stream",
     "text": [
      "[[1.5 +500.j 0.  -500.j 0.    +0.j]\n",
      " [0.  -500.j 1.5+1500.j 0. -1000.j]\n",
      " [0.    +0.j 0. -1000.j 1.5+1000.j]]\n",
      "[3.  1.5 3. ]\n"
     ]
    }
   ],
   "source": [
    "# param values\n",
    "R1 = 1.0\n",
    "R2 = 2.0\n",
    "R3 = 1.0\n",
    "R4 = 2.0\n",
    "R5 = 1.0\n",
    "R6 = 2.0\n",
    "\n",
    "C1 = 0.5\n",
    "C2 = 1.\n",
    "V0 = 3.0\n",
    "w = 1000.0\n",
    "b=array([V0/R1,V0/R2,V0/R3])\n",
    "A = array([[(1/R1 + 1/R4 + 1j*w*C1), -1j*w*C1, 0.0], \\\n",
    "          [-1j*w*C1, (1/R2 + 1/R5 + 1j*w*C1 + 1j*w*C2), -1j*w*C2], \\\n",
    "          [0.0, -1j*w*C2, (1/R3 + 1/R6 + 1j*w*C2), ]])\n",
    "print(A)\n",
    "print(b)"
   ]
  },
  {
   "cell_type": "code",
   "execution_count": 60,
   "metadata": {},
   "outputs": [
    {
     "data": {
      "text/plain": [
       "array([1.66666767-4.99997750e-04j, 1.66666617+4.99999250e-04j,\n",
       "       1.66666617-1.49994317e-09j])"
      ]
     },
     "execution_count": 60,
     "metadata": {},
     "output_type": "execute_result"
    }
   ],
   "source": [
    "sol=la.solve(A,b)\n",
    "sol"
   ]
  },
  {
   "cell_type": "code",
   "execution_count": 61,
   "metadata": {},
   "outputs": [
    {
     "data": {
      "text/plain": [
       "array([1.66666774, 1.66666624, 1.66666617])"
      ]
     },
     "execution_count": 61,
     "metadata": {},
     "output_type": "execute_result"
    }
   ],
   "source": [
    "abs(sol)"
   ]
  },
  {
   "cell_type": "code",
   "execution_count": 65,
   "metadata": {},
   "outputs": [],
   "source": [
    "import cmath"
   ]
  },
  {
   "cell_type": "code",
   "execution_count": 66,
   "metadata": {},
   "outputs": [
    {
     "name": "stdout",
     "output_type": "stream",
     "text": [
      "0 -0.000299998460980728\n",
      "1 0.0002999996310303771\n",
      "2 -8.999661728302967e-10\n"
     ]
    }
   ],
   "source": [
    "for i in range(len(sol)):\n",
    "    print(i,cmath.phase(sol[i]))"
   ]
  },
  {
   "cell_type": "code",
   "execution_count": 67,
   "metadata": {},
   "outputs": [
    {
     "name": "stdout",
     "output_type": "stream",
     "text": [
      "0 (1.6666677416606954, -0.000299998460980728)\n",
      "1 (1.6666662416679627, 0.0002999996310303771)\n",
      "2 (1.666666166670417, -8.999661728302967e-10)\n"
     ]
    }
   ],
   "source": [
    "for i in range(len(sol)):\n",
    "    print(i,cmath.polar(sol[i]))"
   ]
  },
  {
   "cell_type": "markdown",
   "metadata": {},
   "source": [
    "## Eigensystems"
   ]
  },
  {
   "cell_type": "code",
   "execution_count": 69,
   "metadata": {},
   "outputs": [
    {
     "data": {
      "text/plain": [
       "array([ 4.08359857e+00+0.j        ,  6.28203677e-01+0.18305287j,\n",
       "        6.28203677e-01-0.18305287j, -3.67880937e-01+0.23254428j,\n",
       "       -3.67880937e-01-0.23254428j,  3.61096555e-01+0.j        ,\n",
       "       -5.31803499e-05+0.2731354j , -5.31803499e-05-0.2731354j ])"
      ]
     },
     "execution_count": 69,
     "metadata": {},
     "output_type": "execute_result"
    }
   ],
   "source": [
    "A = random.random((8,8))\n",
    "coeff= poly(A)\n",
    "roots(coeff)"
   ]
  },
  {
   "cell_type": "code",
   "execution_count": 71,
   "metadata": {},
   "outputs": [
    {
     "data": {
      "text/plain": [
       "array([ 4.08359857e+00+0.j        ,  6.28203677e-01+0.18305287j,\n",
       "        6.28203677e-01-0.18305287j,  3.61096555e-01+0.j        ,\n",
       "       -3.67880937e-01+0.23254428j, -3.67880937e-01-0.23254428j,\n",
       "       -5.31803499e-05+0.2731354j , -5.31803499e-05-0.2731354j ])"
      ]
     },
     "execution_count": 71,
     "metadata": {},
     "output_type": "execute_result"
    }
   ],
   "source": [
    "la.eigvals(A)"
   ]
  },
  {
   "cell_type": "markdown",
   "metadata": {},
   "source": [
    "## Power method"
   ]
  },
  {
   "cell_type": "code",
   "execution_count": 72,
   "metadata": {},
   "outputs": [],
   "source": [
    "A = random.random((8,8))\n",
    "A = A+A.T"
   ]
  },
  {
   "cell_type": "code",
   "execution_count": 73,
   "metadata": {},
   "outputs": [
    {
     "data": {
      "text/plain": [
       "array([ 7.66523528+0.j, -1.57833198+0.j,  1.70729752+0.j,  1.28915817+0.j,\n",
       "       -0.6521214 +0.j,  0.1936747 +0.j, -0.10042395+0.j, -0.30172712+0.j])"
      ]
     },
     "execution_count": 73,
     "metadata": {},
     "output_type": "execute_result"
    }
   ],
   "source": [
    "la.eigvals(A)"
   ]
  },
  {
   "cell_type": "code",
   "execution_count": 74,
   "metadata": {},
   "outputs": [
    {
     "data": {
      "text/plain": [
       "7.665234188452238"
      ]
     },
     "execution_count": 74,
     "metadata": {},
     "output_type": "execute_result"
    }
   ],
   "source": [
    "n = 5\n",
    "b = random.random(8) \n",
    "b =b/norm(b)\n",
    "\n",
    "for i in range(n):\n",
    "    bs = dot(A, b)\n",
    "    ev = norm(bs)\n",
    "    b = bs/ev\n",
    "ev"
   ]
  },
  {
   "cell_type": "markdown",
   "metadata": {},
   "source": [
    "## Community structure"
   ]
  },
  {
   "cell_type": "code",
   "execution_count": 75,
   "metadata": {},
   "outputs": [],
   "source": [
    "import networkx as nx"
   ]
  },
  {
   "cell_type": "code",
   "execution_count": 77,
   "metadata": {},
   "outputs": [],
   "source": [
    "load = nx.read_gml('dolphins.gml')\n",
    "A=nx.adjacency_matrix(load)"
   ]
  },
  {
   "cell_type": "code",
   "execution_count": 78,
   "metadata": {},
   "outputs": [
    {
     "data": {
      "text/plain": [
       "(62, 62)"
      ]
     },
     "execution_count": 78,
     "metadata": {},
     "output_type": "execute_result"
    }
   ],
   "source": [
    "shape(A)"
   ]
  },
  {
   "cell_type": "code",
   "execution_count": 82,
   "metadata": {},
   "outputs": [],
   "source": [
    "ki = sum(A, axis=1)\n",
    "M = sum(A)\n",
    "B = A - 0.5*outer(ki, ki)/M\n",
    "\n",
    "x,y=la.eigh(B)"
   ]
  },
  {
   "cell_type": "code",
   "execution_count": 98,
   "metadata": {
    "scrolled": true
   },
   "outputs": [
    {
     "data": {
      "image/png": "[encoded data removed]",
      "text/plain": [
       "<Figure size 432x288 with 1 Axes>"
      ]
     },
     "metadata": {},
     "output_type": "display_data"
    }
   ],
   "source": [
    "nx.draw_networkx(load,node_size=20 ,with_labels=False,  cmap='coolwarm')"
   ]
  },
  {
   "cell_type": "markdown",
   "metadata": {},
   "source": [
    "## Normal modes of protein"
   ]
  },
  {
   "cell_type": "code",
   "execution_count": 88,
   "metadata": {},
   "outputs": [],
   "source": [
    "from mpl_toolkits.mplot3d import Axes3D"
   ]
  },
  {
   "cell_type": "code",
   "execution_count": 89,
   "metadata": {},
   "outputs": [
    {
     "data": {
      "text/plain": [
       "(936, 3)"
      ]
     },
     "execution_count": 89,
     "metadata": {},
     "output_type": "execute_result"
    }
   ],
   "source": [
    "Cs = genfromtxt('1rev_CAs.txt', delimiter=',')\n",
    "\n",
    "shape(Cs)"
   ]
  },
  {
   "cell_type": "code",
   "execution_count": 90,
   "metadata": {},
   "outputs": [],
   "source": [
    "import scipy.spatial.distance as dist "
   ]
  },
  {
   "cell_type": "code",
   "execution_count": 92,
   "metadata": {},
   "outputs": [],
   "source": [
    "rc=7.0\n",
    "drs = dist.pdist(Cs)"
   ]
  },
  {
   "cell_type": "code",
   "execution_count": 93,
   "metadata": {},
   "outputs": [
    {
     "data": {
      "text/plain": [
       "array([-1.78737025e-11,  9.36000000e+02,  9.36000000e+02,  9.36000000e+02,\n",
       "        9.36000000e+02])"
      ]
     },
     "execution_count": 93,
     "metadata": {},
     "output_type": "execute_result"
    }
   ],
   "source": [
    "Vs = zeros((len(Cs), len(Cs)))\n",
    "ii = triu_indices(len(Cs),1)\n",
    "drs[drs > rc] = 0.0\n",
    "drs[drs <= rc] = -1.0\n",
    "Vs[ii] = drs\n",
    "Vs += Vs.T\n",
    "\n",
    "k = -1.0*sum(Vs, axis=1)\n",
    "Vs[diag_indices(len(Vs))] = k\n",
    "\n",
    "x, y = eigh(Vs)\n",
    "x[:5]"
   ]
  },
  {
   "cell_type": "code",
   "execution_count": 97,
   "metadata": {},
   "outputs": [
    {
     "data": {
      "text/plain": [
       "<mpl_toolkits.mplot3d.art3d.Path3DCollection at 0x7f3089c6d310>"
      ]
     },
     "execution_count": 97,
     "metadata": {},
     "output_type": "execute_result"
    },
    {
     "data": {
      "image/png": "[encoded data removed]",
      "text/plain": [
       "<Figure size 432x288 with 1 Axes>"
      ]
     },
     "metadata": {
      "needs_background": "light"
     },
     "output_type": "display_data"
    }
   ],
   "source": [
    "fig = figure()\n",
    "ax = fig.add_subplot(111, projection='3d')\n",
    "\n",
    "ax.scatter(Cs[:,0], Cs[:,1], Cs[:,2])"
   ]
  },
  {
   "cell_type": "code",
   "execution_count": null,
   "metadata": {},
   "outputs": [],
   "source": []
  }
 ],
 "metadata": {
  "kernelspec": {
   "display_name": "Python 3",
   "language": "python",
   "name": "python3"
  },
  "language_info": {
   "codemirror_mode": {
    "name": "ipython",
    "version": 3
   },
   "file_extension": ".py",
   "mimetype": "text/x-python",
   "name": "python",
   "nbconvert_exporter": "python",
   "pygments_lexer": "ipython3",
   "version": "3.7.6"
  }
 },
 "nbformat": 4,
 "nbformat_minor": 4
}
