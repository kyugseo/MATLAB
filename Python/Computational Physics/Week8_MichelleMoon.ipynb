{
 "cells": [
  {
   "cell_type": "code",
   "execution_count": 1,
   "metadata": {},
   "outputs": [
    {
     "name": "stdout",
     "output_type": "stream",
     "text": [
      "Populating the interactive namespace from numpy and matplotlib\n"
     ]
    }
   ],
   "source": [
    " %pylab inline"
   ]
  },
  {
   "cell_type": "markdown",
   "metadata": {},
   "source": [
    "# Simulated Annealing\n",
    "\n",
    "## 1D Energy function"
   ]
  },
  {
   "cell_type": "code",
   "execution_count": 2,
   "metadata": {},
   "outputs": [],
   "source": [
    "def fx(x):\n",
    "    return x*x-2.0*cos(2*pi*x)"
   ]
  },
  {
   "cell_type": "code",
   "execution_count": 3,
   "metadata": {},
   "outputs": [
    {
     "data": {
      "text/plain": [
       "[<matplotlib.lines.Line2D at 0x7fe086ca3f10>]"
      ]
     },
     "execution_count": 3,
     "metadata": {},
     "output_type": "execute_result"
    },
    {
     "data": {
      "image/png": "[encoded data removed]",
      "text/plain": [
       "<Figure size 432x288 with 1 Axes>"
      ]
     },
     "metadata": {
      "needs_background": "light"
     },
     "output_type": "display_data"
    }
   ],
   "source": [
    "xs=linspace(-5,5,100)\n",
    "plot(xs,fx(xs))"
   ]
  },
  {
   "cell_type": "code",
   "execution_count": 4,
   "metadata": {},
   "outputs": [],
   "source": [
    "\n",
    "T0 = 10.0  #initial temperature\n",
    "Tf = 0.01   #final temperature\n",
    "tau = 500 #relaxtion time\n",
    "sigma = 0.2 #size of step\n",
    "\n",
    "T= T0 #temperature\n",
    "N=1 # 1D\n",
    "\n",
    "x=4.0*(2.0*(0.5-random.random())) #initial position \n",
    "E0 = fx(x)\n",
    "xs = [1.0*x]\n",
    "iter = 0\n",
    "\n",
    "while T >= Tf:\n",
    "    iter+=1\n",
    "    \n",
    "    for ns in range(N): # sweep over all the degrees of freedom in the system\n",
    "     \n",
    "        xtmp = 1.0*x # store\n",
    "        x += normal(scale=sigma) #random number\n",
    "        Ef = fx(x)\n",
    "        \n",
    "        #metropolis\n",
    "        if Ef > E0: #energy went up\n",
    "            if random.random() > exp(-(Ef-E0)/T): #bad move\n",
    "                x = 1.0*xtmp\n",
    "            else: \n",
    "                E0 = Ef\n",
    "        else:\n",
    "            E0 = Ef\n",
    "        \n",
    "        xs.append(1.0*x)   \n",
    "        \n",
    "    T = T0*exp(-iter/tau)"
   ]
  },
  {
   "cell_type": "code",
   "execution_count": 5,
   "metadata": {},
   "outputs": [
    {
     "data": {
      "text/plain": [
       "[<matplotlib.lines.Line2D at 0x7fe08473f450>]"
      ]
     },
     "execution_count": 5,
     "metadata": {},
     "output_type": "execute_result"
    },
    {
     "data": {
      "image/png": "[encoded data removed]",
      "text/plain": [
       "<Figure size 432x288 with 1 Axes>"
      ]
     },
     "metadata": {
      "needs_background": "light"
     },
     "output_type": "display_data"
    }
   ],
   "source": [
    "plot(xs)"
   ]
  },
  {
   "cell_type": "markdown",
   "metadata": {},
   "source": [
    "so we got to the global minimum around 3500."
   ]
  },
  {
   "cell_type": "markdown",
   "metadata": {},
   "source": [
    "## Finite cluster shape\n"
   ]
  },
  {
   "cell_type": "code",
   "execution_count": 103,
   "metadata": {},
   "outputs": [],
   "source": [
    "def VLJ(r2,eps):\n",
    "    r6 = r2*r2*r2\n",
    "    r12 = r6*r6\n",
    "    return 4.0*eps*(1./r12-1./r6)"
   ]
  },
  {
   "cell_type": "code",
   "execution_count": 104,
   "metadata": {},
   "outputs": [],
   "source": [
    "def Etot(rs,eps): #compute total energy of sys\n",
    "    E=0.0\n",
    "    N=len(rs)\n",
    "    for i in range(N):\n",
    "        for j in range(i+1,N): \n",
    "            dr2 = sum((rs[i]-rs[j])**2)\n",
    "            E += VLJ(dr2,eps)\n",
    "    return E"
   ]
  },
  {
   "cell_type": "code",
   "execution_count": 129,
   "metadata": {},
   "outputs": [
    {
     "name": "stdout",
     "output_type": "stream",
     "text": [
      "-3.804157873462309\n",
      "-27.628016619417284\n"
     ]
    }
   ],
   "source": [
    "tau = 1000\n",
    "\n",
    "T0 = 1.5  #initial temperature\n",
    "Tf = 0.001   #final temperature\n",
    "sigma = 0.2 #size of step\n",
    "eps=1.5\n",
    "sigr=0.25\n",
    "N=10 \n",
    "L= 10.0\n",
    "\n",
    "rs=L*(random.random((N,2))) #initial position \n",
    "rs[0] = array([0.5*L,0.5*L])\n",
    "\n",
    "T= T0 #temperature\n",
    "iters = 0\n",
    "E0=Etot(rs,eps) #initial energy\n",
    "Es=[E0]\n",
    "print(E0)\n",
    "Emin= 10.0\n",
    "while T >= Tf:\n",
    "    iters += 1\n",
    "#for iters in range(10):\n",
    "    for ns in range(1,N): # sweep over all the degrees of freedom in the system\n",
    "        ii = int((N-1)*random.random())+1\n",
    "        rtmp = 1.0*rs[ii]# store\n",
    "        rs[ii] += normal(scale=sigma, size=2) #random number\n",
    "        \n",
    "        rs[ii] = rs[ii] - floor(rs[ii]/L)*L\n",
    "        Ef = Etot(rs, eps)\n",
    "        \n",
    "        #metropolis\n",
    "        if Ef > E0: #energy went up\n",
    "            if random.random() > exp(-(Ef-E0)/T): #bad move\n",
    "                rs[ii] = 1.0*rtmp\n",
    "            else: \n",
    "                E0 = Ef\n",
    "        else:\n",
    "            E0 = Ef   \n",
    "        if E0 < Emin:\n",
    "            Emin =1.*E0\n",
    "            rmin=1.*rs\n",
    "    Es.append(E0)   \n",
    "    T = T0*exp(-iters/tau)\n",
    "print(Emin)"
   ]
  },
  {
   "cell_type": "code",
   "execution_count": 130,
   "metadata": {},
   "outputs": [
    {
     "data": {
      "text/plain": [
       "(0, 10.0)"
      ]
     },
     "execution_count": 130,
     "metadata": {},
     "output_type": "execute_result"
    },
    {
     "data": {
      "image/png": "[encoded data removed]",
      "text/plain": [
       "<Figure size 432x288 with 1 Axes>"
      ]
     },
     "metadata": {
      "needs_background": "light"
     },
     "output_type": "display_data"
    }
   ],
   "source": [
    "scatter(rmin[:,0],rmin[:,1],s=15)\n",
    "xlim(0,L)\n",
    "ylim(0,L)"
   ]
  },
  {
   "cell_type": "code",
   "execution_count": 131,
   "metadata": {},
   "outputs": [
    {
     "data": {
      "text/plain": [
       "(-30, 0)"
      ]
     },
     "execution_count": 131,
     "metadata": {},
     "output_type": "execute_result"
    },
    {
     "data": {
      "image/png": "[encoded data removed]",
      "text/plain": [
       "<Figure size 432x288 with 1 Axes>"
      ]
     },
     "metadata": {
      "needs_background": "light"
     },
     "output_type": "display_data"
    }
   ],
   "source": [
    "plot(Es)\n",
    "ylim(-30,0)"
   ]
  },
  {
   "cell_type": "markdown",
   "metadata": {},
   "source": [
    "## Number partitioning"
   ]
  },
  {
   "cell_type": "code",
   "execution_count": 169,
   "metadata": {},
   "outputs": [
    {
     "name": "stdout",
     "output_type": "stream",
     "text": [
      "[18. 60. 72. 17. 67. 57. 90. 33. 67.  3. 16. 71. 99. 96. 34.]\n",
      "[ 1.  1. -1. -1.  1.  1. -1. -1.  1.  1.  1. -1.  1.  1. -1.]\n"
     ]
    }
   ],
   "source": [
    "tau = 2000\n",
    "\n",
    "T0 = 2.0  #initial temperature\n",
    "Tf = 0.001   #final temperature\n",
    "sigma = 0.2 #size of step\n",
    "\n",
    "nmax=100\n",
    "\n",
    "N=15\n",
    "L= 10.0\n",
    "\n",
    "rs=L*(random.random((N,2))) #initial position \n",
    "rs[0] = array([0.5*L,0.5*L])\n",
    "\n",
    "ns=random.choice(arange(1,nmax,1.0),size=N)\n",
    "si= random.choice([-1.0,1.0],size=N)\n",
    "\n",
    "print(ns)\n",
    "print(si)"
   ]
  },
  {
   "cell_type": "code",
   "execution_count": 170,
   "metadata": {},
   "outputs": [],
   "source": [
    "def Etot(ns,si):\n",
    "    return dot(ns,si)**2.0"
   ]
  },
  {
   "cell_type": "code",
   "execution_count": 171,
   "metadata": {},
   "outputs": [
    {
     "data": {
      "text/plain": [
       "27556.0"
      ]
     },
     "execution_count": 171,
     "metadata": {},
     "output_type": "execute_result"
    }
   ],
   "source": [
    "Etot(ns,si)"
   ]
  },
  {
   "cell_type": "code",
   "execution_count": 211,
   "metadata": {},
   "outputs": [
    {
     "name": "stdout",
     "output_type": "stream",
     "text": [
      "0.0\n"
     ]
    }
   ],
   "source": [
    "tau = 500\n",
    "T0 = 4000  #initial temperature\n",
    "Tf = 1  #final temperature\n",
    "\n",
    "T= T0 #temperature\n",
    "\n",
    "iters = 0\n",
    "E0=Etot(ns,si) #initial energy\n",
    "Es=[E0]\n",
    "\n",
    "Emin = nmax\n",
    "\n",
    "while T >= Tf:\n",
    "    iters += 1\n",
    "#for iters in range(10):\n",
    "\n",
    "    for k in range(N): # sweep over all the degrees of freedom in the system\n",
    "        ii = int(N*random.random())\n",
    "        stmp = 1.0*si[ii]# store\n",
    "        si[ii] *= -1.0 #flip it to the other individual.\n",
    "        \n",
    "        Ef = Etot(ns,si)\n",
    "        \n",
    "        #metropolis\n",
    "        if Ef > E0: #energy went up\n",
    "            if random.random() > exp(-(Ef-E0)/T): #bad move\n",
    "                si[ii] = 1.0*stmp\n",
    "            else: \n",
    "                E0 = Ef\n",
    "        else:\n",
    "            E0 = Ef  \n",
    "            \n",
    "        if E0 < Emin:\n",
    "            Emin = 1.0*E0\n",
    "            smin = 1.0*si\n",
    "    Es.append(E0)   \n",
    "    T = T0*exp(-iters/tau)\n",
    "print(Emin)"
   ]
  },
  {
   "cell_type": "code",
   "execution_count": 212,
   "metadata": {},
   "outputs": [
    {
     "data": {
      "text/plain": [
       "(0, 5000)"
      ]
     },
     "execution_count": 212,
     "metadata": {},
     "output_type": "execute_result"
    },
    {
     "data": {
      "image/png": "[encoded data removed]",
      "text/plain": [
       "<Figure size 432x288 with 1 Axes>"
      ]
     },
     "metadata": {
      "needs_background": "light"
     },
     "output_type": "display_data"
    }
   ],
   "source": [
    "plot(Es)\n",
    "ylim(0,5000)"
   ]
  },
  {
   "cell_type": "code",
   "execution_count": 204,
   "metadata": {},
   "outputs": [
    {
     "data": {
      "text/plain": [
       "array([-1.,  1., -1., -1.,  1.,  1., -1.,  1., -1., -1.,  1.,  1.,  1.,\n",
       "       -1., -1.])"
      ]
     },
     "execution_count": 204,
     "metadata": {},
     "output_type": "execute_result"
    }
   ],
   "source": [
    "smin"
   ]
  },
  {
   "cell_type": "code",
   "execution_count": 214,
   "metadata": {},
   "outputs": [
    {
     "data": {
      "text/plain": [
       "[<matplotlib.lines.Line2D at 0x7f3965f1e390>]"
      ]
     },
     "execution_count": 214,
     "metadata": {},
     "output_type": "execute_result"
    },
    {
     "data": {
      "image/png": "[encoded data removed]",
      "text/plain": [
       "<Figure size 432x288 with 1 Axes>"
      ]
     },
     "metadata": {
      "needs_background": "light"
     },
     "output_type": "display_data"
    }
   ],
   "source": [
    "plot(smin)"
   ]
  },
  {
   "cell_type": "markdown",
   "metadata": {},
   "source": [
    "## Traveling Salesperson Problem (TSP):"
   ]
  },
  {
   "cell_type": "code",
   "execution_count": 2,
   "metadata": {},
   "outputs": [],
   "source": [
    "def Distance(x, rs):\n",
    "    d = 0.0\n",
    "    for i in range(1,len(x)):\n",
    "        d += sum((rs[x[i]]-rs[x[i-1]])**2)\n",
    "    return d"
   ]
  },
  {
   "cell_type": "code",
   "execution_count": 3,
   "metadata": {},
   "outputs": [
    {
     "name": "stdout",
     "output_type": "stream",
     "text": [
      "[[31.73326817 33.16489901]\n",
      " [79.91375896 28.73546987]\n",
      " [54.41587185 74.92369396]\n",
      " [62.8615836  37.18895003]\n",
      " [27.54563398 43.1951362 ]\n",
      " [88.93525894 89.311046  ]\n",
      " [17.54240224 90.47173172]\n",
      " [27.58946436 81.0922989 ]\n",
      " [42.98271887 33.58515661]\n",
      " [ 5.89981652 58.01087008]]\n"
     ]
    }
   ],
   "source": [
    "rs = genfromtxt('cities_small.txt', delimiter=',')\n",
    "N = len(rs)\n",
    "print(rs)"
   ]
  },
  {
   "cell_type": "code",
   "execution_count": 4,
   "metadata": {},
   "outputs": [
    {
     "data": {
      "text/plain": [
       "<matplotlib.collections.PathCollection at 0x7f1d4cc62610>"
      ]
     },
     "execution_count": 4,
     "metadata": {},
     "output_type": "execute_result"
    },
    {
     "data": {
      "image/png": "[encoded data removed]",
      "text/plain": [
       "<Figure size 432x288 with 1 Axes>"
      ]
     },
     "metadata": {
      "needs_background": "light"
     },
     "output_type": "display_data"
    }
   ],
   "source": [
    "scatter(rs[:,0], rs[:,1],s=15)\n"
   ]
  },
  {
   "cell_type": "code",
   "execution_count": 5,
   "metadata": {},
   "outputs": [
    {
     "name": "stdout",
     "output_type": "stream",
     "text": [
      "8988.56493405193\n"
     ]
    }
   ],
   "source": [
    "tau = 50000\n",
    "T0 = 10000  #initial temperature\n",
    "Tf = 10 #final temperature\n",
    "\n",
    "T= T0 #temperature\n",
    "x = array([0] + list(arange(1,N)) + [0])\n",
    "iters = 0\n",
    "d0 = Distance(x, rs)     #initial energy\n",
    "ds=[]\n",
    "\n",
    "nmax=10000\n",
    "dmin = nmax\n",
    "\n",
    "while T >= Tf:\n",
    "    iters += 1\n",
    "#for iters in range(10):\n",
    "\n",
    "    ii = int((N-1)*random.random()) + 1\n",
    "    jj = int((N-1)*random.random()) + 1\n",
    "    while jj == ii:\n",
    "        jj = int((N-1)*random.random()) + 1\n",
    "    x1 = x[ii]\n",
    "    x2 = x[jj]\n",
    "    x[ii] = x2 #swapping\n",
    "    x[jj] = x1 \n",
    "    \n",
    "\n",
    "    df = Distance(x, rs) \n",
    "        \n",
    "        #metropolis\n",
    "    if df > d0: #energy went up\n",
    "        if random.random() > exp(-(df-d0)/T): #bad move\n",
    "            x[ii] = x1\n",
    "            x[jj] = x2\n",
    "        else: \n",
    "            d0 = df\n",
    "    else:\n",
    "        d0 = df  \n",
    "            \n",
    "    if d0 < dmin:\n",
    "        dmin = d0\n",
    "        xmin = 1.0*x\n",
    "    ds.append(d0)   \n",
    "    T = T0*exp(-iters/tau)\n",
    "    \n",
    "print(dmin)"
   ]
  },
  {
   "cell_type": "code",
   "execution_count": 64,
   "metadata": {},
   "outputs": [
    {
     "data": {
      "text/plain": [
       "[<matplotlib.lines.Line2D at 0x7f295a665d50>]"
      ]
     },
     "execution_count": 64,
     "metadata": {},
     "output_type": "execute_result"
    },
    {
     "data": {
      "image/png": "[encoded data removed]",
      "text/plain": [
       "<Figure size 432x288 with 1 Axes>"
      ]
     },
     "metadata": {
      "needs_background": "light"
     },
     "output_type": "display_data"
    }
   ],
   "source": [
    "plot(ds)"
   ]
  },
  {
   "cell_type": "code",
   "execution_count": 65,
   "metadata": {},
   "outputs": [
    {
     "data": {
      "text/plain": [
       "[<matplotlib.lines.Line2D at 0x7f295a575510>]"
      ]
     },
     "execution_count": 65,
     "metadata": {},
     "output_type": "execute_result"
    },
    {
     "data": {
      "image/png": "[encoded data removed]",
      "text/plain": [
       "<Figure size 432x288 with 1 Axes>"
      ]
     },
     "metadata": {
      "needs_background": "light"
     },
     "output_type": "display_data"
    }
   ],
   "source": [
    "for i in range(1, len(x)):\n",
    "    plot([rs[x[i-1]][0], rs[x[i]][0]], [rs[x[i-1]][1], rs[x[i]][1]], 'o-')\n",
    "plot(rs[0][0], rs[0][1])"
   ]
  },
  {
   "cell_type": "code",
   "execution_count": 2,
   "metadata": {},
   "outputs": [
    {
     "data": {
      "text/plain": [
       "<matplotlib.collections.PathCollection at 0x7fecff5b2350>"
      ]
     },
     "execution_count": 2,
     "metadata": {},
     "output_type": "execute_result"
    },
    {
     "data": {
      "image/png": "[encoded data removed]",
      "text/plain": [
       "<Figure size 432x288 with 1 Axes>"
      ]
     },
     "metadata": {
      "needs_background": "light"
     },
     "output_type": "display_data"
    }
   ],
   "source": [
    "rs = genfromtxt('cities_large.txt', delimiter=',')\n",
    "N = len(rs)\n",
    "scatter(rs[:,0], rs[:,1],s=25)"
   ]
  },
  {
   "cell_type": "code",
   "execution_count": 5,
   "metadata": {},
   "outputs": [
    {
     "name": "stdout",
     "output_type": "stream",
     "text": [
      "9728.676604224802\n"
     ]
    }
   ],
   "source": [
    "tau = 50000\n",
    "T0 = 10000  #initial temperature\n",
    "Tf = 10 #final temperature\n",
    "\n",
    "T= T0 #temperature\n",
    "x = array([0] + list(arange(1,N)) + [0])\n",
    "iters = 0\n",
    "d0 = Distance(x, rs)     #initial energy\n",
    "ds=[]\n",
    "\n",
    "nmax=10000\n",
    "dmin = nmax\n",
    "\n",
    "while T >= Tf:\n",
    "    iters += 1\n",
    "#for iters in range(10):\n",
    "\n",
    "    ii = int((N-1)*random.random()) + 1\n",
    "    jj = int((N-1)*random.random()) + 1\n",
    "    while jj == ii:\n",
    "        jj = int((N-1)*random.random()) + 1\n",
    "    x1 = x[ii]\n",
    "    x2 = x[jj]\n",
    "    x[ii] = x2 #swapping\n",
    "    x[jj] = x1 \n",
    "    \n",
    "\n",
    "    df = Distance(x, rs) \n",
    "        \n",
    "        #metropolis\n",
    "    if df > d0: #energy went up\n",
    "        if random.random() > exp(-(df-d0)/T): #bad move\n",
    "            x[ii] = x1\n",
    "            x[jj] = x2\n",
    "        else: \n",
    "            d0 = df\n",
    "    else:\n",
    "        d0 = df  \n",
    "            \n",
    "    if d0 < dmin:\n",
    "        dmin = d0\n",
    "        xmin = 1.0*x\n",
    "    ds.append(d0)   \n",
    "    T = T0*exp(-iters/tau)\n",
    "    \n",
    "print(dmin)"
   ]
  },
  {
   "cell_type": "code",
   "execution_count": 6,
   "metadata": {},
   "outputs": [
    {
     "data": {
      "text/plain": [
       "[<matplotlib.lines.Line2D at 0x7fed01a9d490>]"
      ]
     },
     "execution_count": 6,
     "metadata": {},
     "output_type": "execute_result"
    },
    {
     "data": {
      "image/png": "[encoded data removed]",
      "text/plain": [
       "<Figure size 432x288 with 1 Axes>"
      ]
     },
     "metadata": {
      "needs_background": "light"
     },
     "output_type": "display_data"
    }
   ],
   "source": [
    "plot(ds)"
   ]
  },
  {
   "cell_type": "code",
   "execution_count": 7,
   "metadata": {},
   "outputs": [
    {
     "data": {
      "text/plain": [
       "[<matplotlib.lines.Line2D at 0x7fecff215e10>]"
      ]
     },
     "execution_count": 7,
     "metadata": {},
     "output_type": "execute_result"
    },
    {
     "data": {
      "image/png": "[encoded data removed]",
      "text/plain": [
       "<Figure size 432x288 with 1 Axes>"
      ]
     },
     "metadata": {
      "needs_background": "light"
     },
     "output_type": "display_data"
    }
   ],
   "source": [
    "for i in range(1, len(x)):\n",
    "    plot([rs[x[i-1]][0], rs[x[i]][0]], [rs[x[i-1]][1], rs[x[i]][1]], 'o-')\n",
    "plot(rs[0][0], rs[0][1])"
   ]
  },
  {
   "cell_type": "code",
   "execution_count": null,
   "metadata": {},
   "outputs": [],
   "source": []
  }
 ],
 "metadata": {
  "kernelspec": {
   "display_name": "Python 3",
   "language": "python",
   "name": "python3"
  },
  "language_info": {
   "codemirror_mode": {
    "name": "ipython",
    "version": 3
   },
   "file_extension": ".py",
   "mimetype": "text/x-python",
   "name": "python",
   "nbconvert_exporter": "python",
   "pygments_lexer": "ipython3",
   "version": "3.7.6"
  }
 },
 "nbformat": 4,
 "nbformat_minor": 4
}
