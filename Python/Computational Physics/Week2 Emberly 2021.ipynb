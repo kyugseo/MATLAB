{
 "cells": [
  {
   "cell_type": "code",
   "execution_count": 23,
   "metadata": {},
   "outputs": [
    {
     "name": "stdout",
     "output_type": "stream",
     "text": [
      "Populating the interactive namespace from numpy and matplotlib\n"
     ]
    }
   ],
   "source": [
    "%pylab inline"
   ]
  },
  {
   "cell_type": "markdown",
   "metadata": {},
   "source": [
    "# Numerical Error"
   ]
  },
  {
   "cell_type": "markdown",
   "metadata": {},
   "source": [
    "Truncation error is due to calculating a function out to a certain order using a taylor series.  All terms not included in the expansion contribute error."
   ]
  },
  {
   "cell_type": "markdown",
   "metadata": {},
   "source": [
    "Rounding error is due to the computer's inability to represent numbers beyond a certain precision.  This is the machine error. It's typically ~ 1e-16 for floats."
   ]
  },
  {
   "cell_type": "code",
   "execution_count": 1,
   "metadata": {},
   "outputs": [
    {
     "data": {
      "text/plain": [
       "2.220446049250313e-16"
      ]
     },
     "execution_count": 1,
     "metadata": {},
     "output_type": "execute_result"
    }
   ],
   "source": [
    "7./3. - 4./3. - 1"
   ]
  },
  {
   "cell_type": "markdown",
   "metadata": {},
   "source": [
    "# Numerical integration"
   ]
  },
  {
   "cell_type": "markdown",
   "metadata": {},
   "source": [
    "## simple method"
   ]
  },
  {
   "cell_type": "code",
   "execution_count": 4,
   "metadata": {},
   "outputs": [
    {
     "name": "stdout",
     "output_type": "stream",
     "text": [
      "0.15707963267948966\n"
     ]
    }
   ],
   "source": [
    "# let's look at how to define ranges.  There are N slices. And there are N+1 points including the endpoints\n",
    "a = 0.0\n",
    "b = 0.5*pi\n",
    "N = 10\n",
    "h = (b-a)/N\n",
    "print(h)"
   ]
  },
  {
   "cell_type": "code",
   "execution_count": 3,
   "metadata": {},
   "outputs": [
    {
     "data": {
      "text/plain": [
       "array([0.        , 0.15707963, 0.31415927, 0.4712389 , 0.62831853,\n",
       "       0.78539816, 0.9424778 , 1.09955743, 1.25663706, 1.41371669])"
      ]
     },
     "execution_count": 3,
     "metadata": {},
     "output_type": "execute_result"
    }
   ],
   "source": [
    "xs = arange(a, b, h)\n",
    "xs\n",
    "#missing b at the end!"
   ]
  },
  {
   "cell_type": "code",
   "execution_count": 5,
   "metadata": {},
   "outputs": [
    {
     "data": {
      "text/plain": [
       "array([0.        , 0.17453293, 0.34906585, 0.52359878, 0.6981317 ,\n",
       "       0.87266463, 1.04719755, 1.22173048, 1.3962634 , 1.57079633])"
      ]
     },
     "execution_count": 5,
     "metadata": {},
     "output_type": "execute_result"
    }
   ],
   "source": [
    "xs = linspace(a, b, N)\n",
    "xs\n",
    "#this has the wrong h!!"
   ]
  },
  {
   "cell_type": "code",
   "execution_count": 7,
   "metadata": {},
   "outputs": [
    {
     "data": {
      "text/plain": [
       "array([0.        , 0.15707963, 0.31415927, 0.4712389 , 0.62831853,\n",
       "       0.78539816, 0.9424778 , 1.09955743, 1.25663706, 1.41371669,\n",
       "       1.57079633])"
      ]
     },
     "execution_count": 7,
     "metadata": {},
     "output_type": "execute_result"
    }
   ],
   "source": [
    "xs = linspace(a, b, N+1)\n",
    "xs\n",
    "# this has correct h and a, b"
   ]
  },
  {
   "cell_type": "code",
   "execution_count": 3,
   "metadata": {},
   "outputs": [],
   "source": [
    "# left-sided Rieman sum\n",
    "def lsum(f, h):\n",
    "    return sum(f*h)"
   ]
  },
  {
   "cell_type": "code",
   "execution_count": 5,
   "metadata": {},
   "outputs": [],
   "source": [
    "Nslice = array(logspace(1, 6, 6, base = 10), dtype=int)\n",
    "# or\n",
    "Nslice = array([10**i for i in range(1,7)])\n",
    "\n",
    "x0 = 0.0\n",
    "xf = 0.5*pi\n",
    "\n",
    "hs = []\n",
    "errs = []\n",
    "for N in Nslice:\n",
    "    h = (xf-x0)/N\n",
    "    hs.append(h)\n",
    "    xs = linspace(x0, xf, N+1)\n",
    "    fs = sin(xs[:N])  # only need the N left most points\n",
    "    errs.append(abs( 1.0 - lsum(fs, h)))"
   ]
  },
  {
   "cell_type": "code",
   "execution_count": 11,
   "metadata": {},
   "outputs": [
    {
     "data": {
      "image/png": "[encoded data removed]",
      "text/plain": [
       "<Figure size 432x288 with 1 Axes>"
      ]
     },
     "metadata": {
      "needs_background": "light"
     },
     "output_type": "display_data"
    }
   ],
   "source": [
    "plot(hs, errs, 'o')\n",
    "xscale('log')\n",
    "yscale('log')\n",
    "xlabel('h')\n",
    "ylabel('absolute error')"
   ]
  },
  {
   "cell_type": "code",
   "execution_count": 12,
   "metadata": {},
   "outputs": [
    {
     "data": {
      "text/plain": [
       "array([ 1.00170415, -0.67538975])"
      ]
     },
     "execution_count": 12,
     "metadata": {},
     "output_type": "execute_result"
    }
   ],
   "source": [
    "polyfit(log(hs), log(errs), 1)\n",
    "# so the slope ~ 1, which means that the exponent, alpha ~ 1.0"
   ]
  },
  {
   "cell_type": "code",
   "execution_count": 13,
   "metadata": {},
   "outputs": [
    {
     "data": {
      "text/plain": [
       "0.9999999214601827"
      ]
     },
     "execution_count": 13,
     "metadata": {},
     "output_type": "execute_result"
    }
   ],
   "source": [
    "# syzygy can only handle 1e-7 i.e. 1e7 points for some reason\n",
    "N = int(1e7)\n",
    "h = 0.5*pi/N\n",
    "xs = linspace(0.0, 0.5*pi, N+1)\n",
    "fs = sin(xs[:N])\n",
    "lsum(fs, h)"
   ]
  },
  {
   "cell_type": "markdown",
   "metadata": {},
   "source": [
    "## trapezoid rule"
   ]
  },
  {
   "cell_type": "code",
   "execution_count": 25,
   "metadata": {},
   "outputs": [],
   "source": [
    "import scipy.integrate as integrate"
   ]
  },
  {
   "cell_type": "code",
   "execution_count": 15,
   "metadata": {},
   "outputs": [],
   "source": [
    "Nslice = array(logspace(1, 6, 6, base = 10), dtype=int)\n",
    "\n",
    "x0 = 0.0\n",
    "xf = 0.5*pi\n",
    "\n",
    "hs = []\n",
    "errs = []\n",
    "for N in Nslice:\n",
    "    h = (xf-x0)/N\n",
    "    hs.append(h)\n",
    "    xs = linspace(x0, xf, N+1)\n",
    "    fs = sin(xs)  # note now we're using all N+1 points\n",
    "    errs.append(abs( 1.0 - integrate.trapz(fs, dx=h)))\n"
   ]
  },
  {
   "cell_type": "code",
   "execution_count": 16,
   "metadata": {},
   "outputs": [
    {
     "data": {
      "image/png": "[encoded data removed]",
      "text/plain": [
       "<Figure size 432x288 with 1 Axes>"
      ]
     },
     "metadata": {
      "needs_background": "light"
     },
     "output_type": "display_data"
    }
   ],
   "source": [
    "plot(hs, errs, 'o')\n",
    "xscale('log')\n",
    "yscale('log')\n",
    "xlabel('h')\n",
    "ylabel('absolute error')"
   ]
  },
  {
   "cell_type": "code",
   "execution_count": 17,
   "metadata": {},
   "outputs": [
    {
     "data": {
      "text/plain": [
       "array([ 1.99985906, -2.48546129])"
      ]
     },
     "execution_count": 17,
     "metadata": {},
     "output_type": "execute_result"
    }
   ],
   "source": [
    "polyfit(log(hs), log(errs),1)\n",
    "# so error goes as h^2"
   ]
  },
  {
   "cell_type": "markdown",
   "metadata": {},
   "source": [
    "## Simpson's rule"
   ]
  },
  {
   "cell_type": "code",
   "execution_count": 18,
   "metadata": {},
   "outputs": [],
   "source": [
    "# need even number of slices for Simpson.  so use base=2.\n",
    "# and you don't need h to be that small as you will see this method is very accurate for even largish dh\n",
    "\n",
    "Nslice = array(logspace(3, 11, 9, base = 2), dtype=int)\n",
    "Nslice = [2**i for i in range(3, 12)]\n",
    "\n",
    "x0 = 0.0\n",
    "xf = 0.5*pi\n",
    "\n",
    "hs = []\n",
    "errs = []\n",
    "for N in Nslice:\n",
    "    h = (xf-x0)/(N)\n",
    "    hs.append(h)\n",
    "    xs = linspace(x0, xf, N+1)\n",
    "    fs = sin(xs)  # note now we're using all N where N is even\n",
    "    errs.append(abs( 1.0 - integrate.simps(fs, dx=h)))\n"
   ]
  },
  {
   "cell_type": "code",
   "execution_count": 19,
   "metadata": {},
   "outputs": [
    {
     "data": {
      "image/png": "[encoded data removed]",
      "text/plain": [
       "<Figure size 432x288 with 1 Axes>"
      ]
     },
     "metadata": {
      "needs_background": "light"
     },
     "output_type": "display_data"
    }
   ],
   "source": [
    "plot(hs, errs, 'o')\n",
    "xscale('log')\n",
    "yscale('log')\n",
    "xlabel('h')\n",
    "ylabel('absolute error')"
   ]
  },
  {
   "cell_type": "code",
   "execution_count": 20,
   "metadata": {},
   "outputs": [
    {
     "data": {
      "text/plain": [
       "array([ 4.008443  , -5.16437725])"
      ]
     },
     "execution_count": 20,
     "metadata": {},
     "output_type": "execute_result"
    }
   ],
   "source": [
    "polyfit(log(hs), log(errs),1)\n",
    "# so the error now goes as h^4 !!!!"
   ]
  },
  {
   "cell_type": "code",
   "execution_count": 24,
   "metadata": {},
   "outputs": [],
   "source": [
    "# timing function\n",
    "from timeit import default_timer"
   ]
  },
  {
   "cell_type": "code",
   "execution_count": 21,
   "metadata": {},
   "outputs": [
    {
     "name": "stdout",
     "output_type": "stream",
     "text": [
      "simple 15707963\n",
      "time: 3.273089e-01  err: 5.000000e-08\n",
      "trapz 4967\n",
      "time: 9.385869e-04  err: 8.334320e-09\n",
      "simpson 88\n",
      "time: 1.292229e-04  err: 5.640177e-10\n"
     ]
    }
   ],
   "source": [
    "# simple err ~ h\n",
    "h = 1e-7\n",
    "\n",
    "N = int(0.5*pi/h)\n",
    "print('simple', N)\n",
    "xs = linspace(0.0, 0.5*pi, N+1)\n",
    "dh = xs[1]-xs[0]\n",
    "start = default_timer()\n",
    "rslt = lsum(sin(xs[:N]), dh)\n",
    "end = default_timer()\n",
    "print('time: %e  err: %e' % (end-start, abs(1.0-rslt)))\n",
    "\n",
    "# simple err ~ h^2\n",
    "h = sqrt(1e-7)\n",
    "\n",
    "N = int(0.5*pi/h)\n",
    "print('trapz', N)\n",
    "xs = linspace(0.0, 0.5*pi, N+1)\n",
    "dh = xs[1]-xs[0]\n",
    "start = default_timer()\n",
    "rslt = integrate.trapz(sin(xs), dx=dh)\n",
    "end = default_timer()\n",
    "print('time: %e  err: %e' % (end-start, abs(1.0-rslt)))\n",
    "\n",
    "# simpson's err ~ h^4\n",
    "h = (1e-7)**0.25\n",
    "\n",
    "N = int(0.5*pi/h)\n",
    "print('simpson', N)\n",
    "xs = linspace(0.0, 0.5*pi, N+1)\n",
    "dh = xs[1]-xs[0]\n",
    "start = default_timer()\n",
    "rslt = integrate.simps(sin(xs), dx=dh)\n",
    "end = default_timer()\n",
    "print('time: %e  err: %e' % (end-start, abs(1.0-rslt)))"
   ]
  },
  {
   "cell_type": "markdown",
   "metadata": {},
   "source": [
    "## Other methods"
   ]
  },
  {
   "cell_type": "code",
   "execution_count": 24,
   "metadata": {},
   "outputs": [
    {
     "data": {
      "text/plain": [
       "[<matplotlib.lines.Line2D at 0x7f77d8bcd950>]"
      ]
     },
     "execution_count": 24,
     "metadata": {},
     "output_type": "execute_result"
    },
    {
     "data": {
      "image/png": "[encoded data removed]",
      "text/plain": [
       "<Figure size 432x288 with 1 Axes>"
      ]
     },
     "metadata": {
      "needs_background": "light"
     },
     "output_type": "display_data"
    }
   ],
   "source": [
    "# evaluate the integral of cos((pi/2) x^2) over 0 <= x <= 7.1\n",
    "\n",
    "xs = linspace(0, 7.1, 1000)\n",
    "plot(xs, cos(0.5*pi*xs*xs))"
   ]
  },
  {
   "cell_type": "markdown",
   "metadata": {},
   "source": [
    "This function oscillates substantially, need to use very fine set of points to integrate it using equally spaced points"
   ]
  },
  {
   "cell_type": "code",
   "execution_count": 2,
   "metadata": {},
   "outputs": [],
   "source": [
    "import scipy.special as spec"
   ]
  },
  {
   "cell_type": "code",
   "execution_count": 27,
   "metadata": {},
   "outputs": [],
   "source": [
    "?spec.fresnel"
   ]
  },
  {
   "cell_type": "markdown",
   "metadata": {},
   "source": [
    "Two values are returned."
   ]
  },
  {
   "cell_type": "code",
   "execution_count": 49,
   "metadata": {},
   "outputs": [
    {
     "name": "stdout",
     "output_type": "stream",
     "text": [
      "0.47331119669659066\n"
     ]
    }
   ],
   "source": [
    "S, C = spec.fresnel(7.1)\n",
    "print(C)\n",
    "# we want C not S"
   ]
  },
  {
   "cell_type": "code",
   "execution_count": 50,
   "metadata": {},
   "outputs": [],
   "source": [
    "# integrate the above using Simpson's method and find h needed to give err ~ 1e-8\n",
    "\n",
    "# integrate cos(0.5*pi*x*x) over 0 <= x <= 7.1 using different # of slices\n",
    "\n",
    "Nslices = array([2**i for i in range(1, 12)])  # log spaced points\n",
    "\n",
    "x0 = 0.0\n",
    "xf = 7.1\n",
    "\n",
    "S, C = spec.fresnel(xf)  # correct value of the fresnel integral - we want the S value\n",
    "\n",
    "hs = []\n",
    "errs = []\n",
    "for N in Nslices:\n",
    "    h = (xf-x0)/N\n",
    "    hs.append(h)\n",
    "    \n",
    "    xs = linspace(x0, xf, N+1)\n",
    "    fs = cos(0.5*pi*xs*xs)   # for trapz need to evaluate function at all N+1 points\n",
    "    \n",
    "    rslt = integrate.simps(fs, xs)\n",
    "    \n",
    "    # actual value of integral of sinx on this interval = 1.0\n",
    "    \n",
    "    error = abs(C - rslt)\n",
    "    errs.append(error)"
   ]
  },
  {
   "cell_type": "code",
   "execution_count": 51,
   "metadata": {},
   "outputs": [
    {
     "data": {
      "text/plain": [
       "Text(0, 0.5, 'absolute error')"
      ]
     },
     "execution_count": 51,
     "metadata": {},
     "output_type": "execute_result"
    },
    {
     "data": {
      "image/png": "[encoded data removed]",
      "text/plain": [
       "<Figure size 432x288 with 1 Axes>"
      ]
     },
     "metadata": {
      "needs_background": "light"
     },
     "output_type": "display_data"
    }
   ],
   "source": [
    "plot(hs, errs, 'o')\n",
    "xscale('log')\n",
    "yscale('log')\n",
    "xlabel('h')\n",
    "ylabel('absolute error')"
   ]
  },
  {
   "cell_type": "markdown",
   "metadata": {},
   "source": [
    "To get an error ~ 1e-8 looks like we need an h ~ 1e-3, so that would give N ~ 1000 pts."
   ]
  },
  {
   "cell_type": "markdown",
   "metadata": {},
   "source": [
    "## Fixed quadrature"
   ]
  },
  {
   "cell_type": "code",
   "execution_count": 37,
   "metadata": {},
   "outputs": [],
   "source": [
    "?integrate.fixed_quad"
   ]
  },
  {
   "cell_type": "code",
   "execution_count": 36,
   "metadata": {},
   "outputs": [],
   "source": [
    "# need to define our function to pass to fixed_quad\n",
    "\n",
    "def f(x):\n",
    "    return cos(0.5*pi*x*x)\n",
    "\n",
    "# or could do it using python's lambda notation\n",
    "\n",
    "# f = lambda x:  cos(0.5*pi*x*x)"
   ]
  },
  {
   "cell_type": "code",
   "execution_count": 41,
   "metadata": {},
   "outputs": [
    {
     "name": "stdout",
     "output_type": "stream",
     "text": [
      "0.47349928719096074\n"
     ]
    }
   ],
   "source": [
    "rslt = integrate.fixed_quad(f, x0, xf, n=35)\n",
    "print(rslt[0])"
   ]
  },
  {
   "cell_type": "code",
   "execution_count": 54,
   "metadata": {},
   "outputs": [],
   "source": [
    "# integrate the above using quadrature method and find h needed to give err ~ 1e-8\n",
    "\n",
    "# integrate cos(0.5*pi*x*x) over 0 <= x <= 7.1 using different # of slices\n",
    "\n",
    "Nslices = array([2**i for i in range(1, 8)])  # log spaced points\n",
    "\n",
    "x0 = 0.0\n",
    "xf = 7.1\n",
    "\n",
    "S, C = spec.fresnel(xf)  # correct value of the fresnel integral - we want the S value\n",
    "\n",
    "hs = []\n",
    "errs = []\n",
    "for N in Nslices:\n",
    "    h = (xf-x0)/N\n",
    "    hs.append(h)\n",
    "    \n",
    "    rslt = integrate.fixed_quad(f, x0, xf, n=N)\n",
    "    \n",
    "    # actual value of integral of sinx on this interval = 1.0\n",
    "    \n",
    "    error = abs(C - rslt[0])\n",
    "    errs.append(error)"
   ]
  },
  {
   "cell_type": "code",
   "execution_count": 55,
   "metadata": {},
   "outputs": [
    {
     "data": {
      "text/plain": [
       "Text(0, 0.5, 'absolute error')"
      ]
     },
     "execution_count": 55,
     "metadata": {},
     "output_type": "execute_result"
    },
    {
     "data": {
      "image/png": "[encoded data removed]",
      "text/plain": [
       "<Figure size 432x288 with 1 Axes>"
      ]
     },
     "metadata": {
      "needs_background": "light"
     },
     "output_type": "display_data"
    }
   ],
   "source": [
    "plot(hs, errs, 'o')\n",
    "xscale('log')\n",
    "yscale('log')\n",
    "xlabel('h')\n",
    "ylabel('absolute error')"
   ]
  },
  {
   "cell_type": "markdown",
   "metadata": {},
   "source": [
    "So with fixed quadrature with an h ~ 1e-1 we get an error < 1e-8. So we need N~10 points only with fixed quadrature"
   ]
  },
  {
   "cell_type": "code",
   "execution_count": 57,
   "metadata": {},
   "outputs": [],
   "source": [
    "# use integrate.quadrature to automatically find the N to generate a certain error tolerance\n",
    "?integrate.quadrature"
   ]
  },
  {
   "cell_type": "code",
   "execution_count": 58,
   "metadata": {},
   "outputs": [
    {
     "data": {
      "text/plain": [
       "(0.4733111981263692, 9.812996526470386e-10)"
      ]
     },
     "execution_count": 58,
     "metadata": {},
     "output_type": "execute_result"
    }
   ],
   "source": [
    "integrate.quadrature(f, x0, xf, tol=1e-8)"
   ]
  },
  {
   "cell_type": "code",
   "execution_count": 63,
   "metadata": {},
   "outputs": [],
   "source": [
    "#Lastly integrate exp(-x*x/2) from -inf to inf using integrate.quad\n",
    "?integrate.quad"
   ]
  },
  {
   "cell_type": "code",
   "execution_count": 60,
   "metadata": {},
   "outputs": [],
   "source": [
    "def f(x):\n",
    "    return exp(-0.5*x*x)"
   ]
  },
  {
   "cell_type": "code",
   "execution_count": 64,
   "metadata": {
    "scrolled": true
   },
   "outputs": [
    {
     "data": {
      "text/plain": [
       "(2.5066282746309994, 2.5512942192316024e-08)"
      ]
     },
     "execution_count": 64,
     "metadata": {},
     "output_type": "execute_result"
    }
   ],
   "source": [
    "integrate.quad(f, -inf, inf, epsabs=1e-8)"
   ]
  },
  {
   "cell_type": "code",
   "execution_count": null,
   "metadata": {},
   "outputs": [],
   "source": []
  },
  {
   "cell_type": "markdown",
   "metadata": {},
   "source": [
    "## Monte Carlo Integration"
   ]
  },
  {
   "cell_type": "code",
   "execution_count": 70,
   "metadata": {},
   "outputs": [],
   "source": [
    "def f(x):\n",
    "    return cos(0.5*pi*x*x)  # fresnel integrand"
   ]
  },
  {
   "cell_type": "code",
   "execution_count": 74,
   "metadata": {},
   "outputs": [],
   "source": [
    "# do do montecarlo integration, we just need to compute the average of the function using a randomly sampled number of points\n",
    "\n",
    "x0 = 0.0\n",
    "xf = 7.1\n",
    "\n",
    "S, C = spec.fresnel(xf)\n",
    "\n",
    "Npts = array([10**i for i in range(1, 8)])   # number of samples to draw\n",
    "\n",
    "errs = []\n",
    "for N in Npts:\n",
    "    \n",
    "    xs = x0 + (xf-x0)*random.random(N)    # this generates N random points between x0 and xf\n",
    "    \n",
    "    fs = f(xs)   # the function values at these random points\n",
    "    \n",
    "    rslt = (xf-x0)*mean(fs)    # definition of integral using the average of function\n",
    "\n",
    "    errs.append(abs(C - rslt))"
   ]
  },
  {
   "cell_type": "code",
   "execution_count": 75,
   "metadata": {},
   "outputs": [
    {
     "data": {
      "text/plain": [
       "Text(0, 0.5, 'absolute error')"
      ]
     },
     "execution_count": 75,
     "metadata": {},
     "output_type": "execute_result"
    },
    {
     "data": {
      "image/png": "[encoded data removed]",
      "text/plain": [
       "<Figure size 432x288 with 1 Axes>"
      ]
     },
     "metadata": {
      "needs_background": "light"
     },
     "output_type": "display_data"
    }
   ],
   "source": [
    "plot(Npts, errs, 'o')\n",
    "xscale('log')\n",
    "yscale('log')\n",
    "xlabel(r'$N$')\n",
    "ylabel('absolute error')"
   ]
  },
  {
   "cell_type": "markdown",
   "metadata": {},
   "source": [
    "So the error is going down with more N, but it fluctuates.  And it's not super low.  This isn't a great method for this particular integral but it is for evaluating high dimensional integrals."
   ]
  },
  {
   "cell_type": "markdown",
   "metadata": {},
   "source": [
    "## Volume of 5d sphere (extra problem - not graded but shows power of MC integration)"
   ]
  },
  {
   "cell_type": "code",
   "execution_count": 7,
   "metadata": {},
   "outputs": [
    {
     "name": "stdout",
     "output_type": "stream",
     "text": [
      "5.263789013914324\n"
     ]
    }
   ],
   "source": [
    "# volume of 5d sphere with R=1 (from wikipedia)\n",
    "\n",
    "n = 5\n",
    "V5d = (pi)**(0.5*n)/spec.gamma(0.5*n+1.0)\n",
    "print(V5d)"
   ]
  },
  {
   "cell_type": "code",
   "execution_count": 8,
   "metadata": {
    "scrolled": true
   },
   "outputs": [
    {
     "name": "stdout",
     "output_type": "stream",
     "text": [
      "4.188790204786391 4.1887902047863905\n"
     ]
    }
   ],
   "source": [
    "# sanity check, does this work in 3d\n",
    "n = 3\n",
    "V3d = (pi)**(0.5*n)/spec.gamma(0.5*n+1.0)\n",
    "print(V3d, 4./3.*pi)"
   ]
  },
  {
   "cell_type": "code",
   "execution_count": 14,
   "metadata": {},
   "outputs": [],
   "source": [
    "def f5d(r):   # r has the shape (N, D) where N is the # of points and D is the dimensionality\n",
    "    r2 = sum(r*r, axis=1)  # calculate r^2 = x1*x1 + x2*x2 + x3*x3 + ...\n",
    "    # want r2 <= 1.0\n",
    "    rslt = zeros(len(r))\n",
    "    rslt[r2 <= 1.0] = 1.0   # all points within sphere have value = 1.0, all points > 1.0 will remain = 0.0\n",
    "    return rslt"
   ]
  },
  {
   "cell_type": "code",
   "execution_count": 23,
   "metadata": {},
   "outputs": [
    {
     "name": "stdout",
     "output_type": "stream",
     "text": [
      "10 3.2 5.263789013914324\n",
      "100 5.76 5.263789013914324\n",
      "1000 5.408 5.263789013914324\n",
      "10000 5.1264 5.263789013914324\n",
      "100000 5.22016 5.263789013914324\n"
     ]
    }
   ],
   "source": [
    "# do do montecarlo integration, we just need to compute the average of the function using a randomly sampled number of points\n",
    "\n",
    "Npts = array([10**i for i in range(1, 6)])   # number of samples to draw\n",
    "\n",
    "Vcube = (2.0)**5  # each side has a length = 2.0\n",
    "\n",
    "errs = []\n",
    "for N in Npts:\n",
    "    \n",
    "    rs = 2.0*(0.5 - random.random((N, 5)))    # this generates N random in the 5d cube from -1 to 1\n",
    "    \n",
    "    fs = f5d(rs)   # the function values at these random points\n",
    "    \n",
    "    rslt = Vcube*mean(fs)    # definition of integral using the average of function\n",
    "    print(N, rslt, V5d)\n",
    "    \n",
    "    errs.append(abs(V5d - rslt))"
   ]
  },
  {
   "cell_type": "code",
   "execution_count": 24,
   "metadata": {},
   "outputs": [
    {
     "data": {
      "text/plain": [
       "Text(0, 0.5, 'absolute error')"
      ]
     },
     "execution_count": 24,
     "metadata": {},
     "output_type": "execute_result"
    },
    {
     "data": {
      "image/png": "[encoded data removed]",
      "text/plain": [
       "<Figure size 432x288 with 1 Axes>"
      ]
     },
     "metadata": {
      "needs_background": "light"
     },
     "output_type": "display_data"
    }
   ],
   "source": [
    "plot(Npts, errs, 'o')\n",
    "xscale('log')\n",
    "yscale('log')\n",
    "xlabel(r'$N$')\n",
    "ylabel('absolute error')"
   ]
  },
  {
   "cell_type": "markdown",
   "metadata": {},
   "source": [
    "So with as few as 100,000 pts we've already got a reasonable estimate of the volume.  Way less than you'd need if you were to do a grid.  The error should go down as 1/sqrt(N), since our estimate of the average has sqrt(N) noise."
   ]
  },
  {
   "cell_type": "code",
   "execution_count": null,
   "metadata": {},
   "outputs": [],
   "source": []
  },
  {
   "cell_type": "markdown",
   "metadata": {},
   "source": [
    "# Numerical differentiation"
   ]
  },
  {
   "cell_type": "code",
   "execution_count": 26,
   "metadata": {},
   "outputs": [],
   "source": [
    "# Numerical differentiation, forward difference\n",
    "\n",
    "hs = [10.0**(-i) for i in range(1, 16)]\n",
    "\n",
    "x = 1.0\n",
    "\n",
    "errs = []\n",
    "for h in hs:\n",
    "    dfdx = ((x+h)**0.8 - (x)**0.8)/h\n",
    "    errs.append(abs( dfdx - 0.8*(x)**(-0.2)))"
   ]
  },
  {
   "cell_type": "code",
   "execution_count": 27,
   "metadata": {},
   "outputs": [
    {
     "data": {
      "image/png": "[encoded data removed]",
      "text/plain": [
       "<Figure size 432x288 with 1 Axes>"
      ]
     },
     "metadata": {
      "needs_background": "light"
     },
     "output_type": "display_data"
    }
   ],
   "source": [
    "plot(hs, errs, '.')\n",
    "xscale('log')\n",
    "yscale('log')\n",
    "xlabel('h')\n",
    "ylabel('absolute error')"
   ]
  },
  {
   "cell_type": "markdown",
   "metadata": {},
   "source": [
    "Centered difference error dependence:\n",
    "\\begin{equation}\n",
    "f(x + h) = f(x) + f'(x) h + 1/2 f''(x) h^2 + O(h^3)\n",
    "\\end{equation}\n",
    "and\n",
    "\\begin{equation}\n",
    "f(x - h) = f(x) - f'(x) h + 1/2 f''(x) h^2 + O(h^3)\n",
    "\\end{equation}\n",
    "subtract these equations and solve for $f'(x)$ gives the centered difference formula and an error that goes as $O(h^3/h) = O(h^2)$."
   ]
  },
  {
   "cell_type": "code",
   "execution_count": 28,
   "metadata": {},
   "outputs": [],
   "source": [
    "# Numerical differentiation, centered difference\n",
    "\n",
    "hs = [10.0**(-i) for i in range(1, 16)]\n",
    "\n",
    "x = 1.0\n",
    "\n",
    "errs = []\n",
    "for h in hs:\n",
    "    dfdx = 0.5*((x+h)**0.8 - (x-h)**0.8)/h\n",
    "    errs.append(abs( dfdx - 0.8*(x)**(-0.2)))"
   ]
  },
  {
   "cell_type": "code",
   "execution_count": 29,
   "metadata": {},
   "outputs": [
    {
     "data": {
      "image/png": "[encoded data removed]",
      "text/plain": [
       "<Figure size 432x288 with 1 Axes>"
      ]
     },
     "metadata": {
      "needs_background": "light"
     },
     "output_type": "display_data"
    }
   ],
   "source": [
    "plot(hs, errs, '.')\n",
    "xscale('log')\n",
    "yscale('log')\n",
    "xlabel('h')\n",
    "ylabel('absolute error')"
   ]
  },
  {
   "cell_type": "markdown",
   "metadata": {},
   "source": [
    "# Euler method"
   ]
  },
  {
   "cell_type": "code",
   "execution_count": 30,
   "metadata": {},
   "outputs": [],
   "source": [
    "# free fall\n",
    "def dydt(t, y):  # note y is an array: y = [x(t), v(t)]\n",
    "    # returns [dx/dt, dv/dt]\n",
    "    x = y[0]\n",
    "    v = y[1]\n",
    "    return array([v, -9.80])"
   ]
  },
  {
   "cell_type": "code",
   "execution_count": 31,
   "metadata": {},
   "outputs": [],
   "source": [
    "# euler:  y(t+dt) = y(t) + dydt*dt\n",
    "\n",
    "dt = 0.01\n",
    "Nsteps = 100\n",
    "\n",
    "y0 = array([1.0, 5.0])  # initial conditions\n",
    "ys = [y0]  # store my position and velocity\n",
    "\n",
    "t = 0.0\n",
    "ts = [t]\n",
    "for i in range(Nsteps):\n",
    "    yp = ys[-1] + dt*dydt(t, ys[-1])\n",
    "    ys.append(yp)\n",
    "    t += dt\n",
    "    ts.append(t)\n",
    "ys = array(ys)\n",
    "ts = array(ts)"
   ]
  },
  {
   "cell_type": "code",
   "execution_count": 32,
   "metadata": {},
   "outputs": [
    {
     "data": {
      "text/plain": [
       "[<matplotlib.lines.Line2D at 0x7f7c496f7590>]"
      ]
     },
     "execution_count": 32,
     "metadata": {},
     "output_type": "execute_result"
    },
    {
     "data": {
      "image/png": "[encoded data removed]",
      "text/plain": [
       "<Figure size 432x288 with 1 Axes>"
      ]
     },
     "metadata": {
      "needs_background": "light"
     },
     "output_type": "display_data"
    }
   ],
   "source": [
    "plot(ts, ys[:,0])\n",
    "plot(ts, 1.0 + 5.0*ts - 0.5*9.8*ts*ts,'r') #exact solution"
   ]
  },
  {
   "cell_type": "markdown",
   "metadata": {},
   "source": [
    "# Built in Python ODE solver"
   ]
  },
  {
   "cell_type": "code",
   "execution_count": 33,
   "metadata": {},
   "outputs": [],
   "source": [
    "from scipy.integrate import solve_ivp"
   ]
  },
  {
   "cell_type": "code",
   "execution_count": 34,
   "metadata": {},
   "outputs": [],
   "source": [
    "sol = solve_ivp(dydt, (0.0, 1.0), (1.0, 5.0))"
   ]
  },
  {
   "cell_type": "code",
   "execution_count": 35,
   "metadata": {},
   "outputs": [
    {
     "data": {
      "text/plain": [
       "[<matplotlib.lines.Line2D at 0x7f7c496afdd0>]"
      ]
     },
     "execution_count": 35,
     "metadata": {},
     "output_type": "execute_result"
    },
    {
     "data": {
      "image/png": "[encoded data removed]",
      "text/plain": [
       "<Figure size 432x288 with 1 Axes>"
      ]
     },
     "metadata": {
      "needs_background": "light"
     },
     "output_type": "display_data"
    }
   ],
   "source": [
    "plot(ts, 1.0 + 5.0*ts - 0.5*9.8*ts*ts,'r') #exact solution\n",
    "plot(sol.t, sol.y[0], 'o')\n",
    "# the points look great, they fall on the trajectory, but why are there so few?"
   ]
  },
  {
   "cell_type": "code",
   "execution_count": null,
   "metadata": {},
   "outputs": [],
   "source": [
    "# use t_eval"
   ]
  },
  {
   "cell_type": "code",
   "execution_count": 38,
   "metadata": {},
   "outputs": [],
   "source": [
    "ts = arange(0.0, 1.01, 0.01)\n",
    "sol = solve_ivp(dydt, (0.0, 1.0), (1.0, 5.0), t_eval = ts)"
   ]
  },
  {
   "cell_type": "code",
   "execution_count": 39,
   "metadata": {},
   "outputs": [
    {
     "data": {
      "text/plain": [
       "[<matplotlib.lines.Line2D at 0x7f7c4967c390>]"
      ]
     },
     "execution_count": 39,
     "metadata": {},
     "output_type": "execute_result"
    },
    {
     "data": {
      "image/png": "[encoded data removed]",
      "text/plain": [
       "<Figure size 432x288 with 1 Axes>"
      ]
     },
     "metadata": {
      "needs_background": "light"
     },
     "output_type": "display_data"
    }
   ],
   "source": [
    "plot(ts, 1.0 + 5.0*ts - 0.5*9.8*ts*ts,'r') #exact solution\n",
    "plot(sol.t, sol.y[0])\n",
    "# the error is now not even visible"
   ]
  },
  {
   "cell_type": "markdown",
   "metadata": {},
   "source": [
    "# driven damped oscillator"
   ]
  },
  {
   "cell_type": "markdown",
   "metadata": {},
   "source": [
    "Need to solve\n",
    "\\begin{equation}\n",
    "\\frac{dv}{dt} = f - 2\\gamma \\omega_0 v - \\omega_0^2 x\n",
    "\\end{equation}\n",
    "and\n",
    "\\begin{equation}\n",
    "\\frac{dx}{dt} = v\n",
    "\\end{equation}"
   ]
  },
  {
   "cell_type": "code",
   "execution_count": 40,
   "metadata": {},
   "outputs": [],
   "source": [
    "# constant forcing f\n",
    "def dydt(t, y, w0, gamma, f):\n",
    "    # y[0] = x\n",
    "    # y[1] = v\n",
    "    x = y[0]\n",
    "    v = y[1]\n",
    "    accel = f - 2.0*gamma*w0*v - w0*w0*x\n",
    "    return [v, accel]"
   ]
  },
  {
   "cell_type": "code",
   "execution_count": 52,
   "metadata": {},
   "outputs": [],
   "source": [
    "# see what solving at a particular gamma gives\n",
    "w0 = 2.0\n",
    "gamma = 0.25\n",
    "f = 1.0\n",
    "\n",
    "x0 = 0.0\n",
    "v0 = 0.0\n",
    "\n",
    "t0 = 0.0\n",
    "tf = 10.0\n",
    "dt = 0.01\n",
    "ts = arange(t0, tf+dt, dt)\n",
    "sol = solve_ivp(lambda t, y: dydt(t, y, w0, gamma, f), (t0, tf), (x0, v0), t_eval = ts)"
   ]
  },
  {
   "cell_type": "code",
   "execution_count": 53,
   "metadata": {},
   "outputs": [
    {
     "data": {
      "text/plain": [
       "[<matplotlib.lines.Line2D at 0x7f7c499313d0>]"
      ]
     },
     "execution_count": 53,
     "metadata": {},
     "output_type": "execute_result"
    },
    {
     "data": {
      "image/png": "[encoded data removed]",
      "text/plain": [
       "<Figure size 432x288 with 1 Axes>"
      ]
     },
     "metadata": {
      "needs_background": "light"
     },
     "output_type": "display_data"
    }
   ],
   "source": [
    "plot(sol.t, sol.y[0])"
   ]
  },
  {
   "cell_type": "code",
   "execution_count": 55,
   "metadata": {},
   "outputs": [
    {
     "data": {
      "text/plain": [
       "Text(0, 0.5, 'position')"
      ]
     },
     "execution_count": 55,
     "metadata": {},
     "output_type": "execute_result"
    },
    {
     "data": {
      "image/png": "[encoded data removed]",
      "text/plain": [
       "<Figure size 432x288 with 1 Axes>"
      ]
     },
     "metadata": {
      "needs_background": "light"
     },
     "output_type": "display_data"
    }
   ],
   "source": [
    "# see what solving at a particular gamma gives\n",
    "w0 = 2.0\n",
    "gammas = [0.0, 0.25, 0.5, 1.0, 2.0]\n",
    "f = 1.0\n",
    "\n",
    "ts = arange(0.0, 15.01, 0.1)\n",
    "for gamma in gammas:\n",
    "    sol = solve_ivp(lambda t, y: dydt(t, y, w0, gamma, f), (0.0, 15.0), (0.0, 0.0), t_eval = ts)\n",
    "    plot(sol.t, sol.y[0])\n",
    "legend(gammas, loc=0)\n",
    "xlabel('time')\n",
    "ylabel('position')"
   ]
  },
  {
   "cell_type": "markdown",
   "metadata": {},
   "source": [
    "At c ~ 1.0 you get critical damping above which you get overdamping."
   ]
  },
  {
   "cell_type": "markdown",
   "metadata": {},
   "source": [
    "## Driven oscillator"
   ]
  },
  {
   "cell_type": "code",
   "execution_count": 56,
   "metadata": {},
   "outputs": [],
   "source": [
    "# driven oscillator\n",
    "def dydt(t, y, w0, gamma, f, w):\n",
    "    # y[0] = x\n",
    "    # y[1] = v\n",
    "    x = y[0]\n",
    "    v = y[1]\n",
    "    accel = f*cos(w*t) - 2.0*gamma*w0*v - w0*w0*x\n",
    "    return [v, accel]"
   ]
  },
  {
   "cell_type": "code",
   "execution_count": 59,
   "metadata": {},
   "outputs": [
    {
     "data": {
      "text/plain": [
       "<matplotlib.legend.Legend at 0x7f7c492d65d0>"
      ]
     },
     "execution_count": 59,
     "metadata": {},
     "output_type": "execute_result"
    },
    {
     "data": {
      "image/png": "[encoded data removed]",
      "text/plain": [
       "<Figure size 432x288 with 1 Axes>"
      ]
     },
     "metadata": {
      "needs_background": "light"
     },
     "output_type": "display_data"
    }
   ],
   "source": [
    "# see what solving at a particular gamma gives\n",
    "w0 = 2.0\n",
    "ws = [0.5, 0.95, 1.45]\n",
    "gamma = 0.2\n",
    "f = 1.0\n",
    "\n",
    "T = 20.0\n",
    "dt = 0.1\n",
    "\n",
    "ts = arange(0.0, T+dt, dt)\n",
    "for w in ws:\n",
    "    sol = solve_ivp(lambda t, y: dydt(t, y, w0, gamma, f, w*w0), (0.0, T), (0.0, 0.0), t_eval = ts)\n",
    "    plot(sol.t, sol.y[0])\n",
    "legend(ws, loc=0)"
   ]
  },
  {
   "cell_type": "markdown",
   "metadata": {},
   "source": [
    "The frequency of the oscillations increases with $\\omega$ but the amplitude initially increases and then decreases with $\\omega$."
   ]
  },
  {
   "cell_type": "code",
   "execution_count": 62,
   "metadata": {},
   "outputs": [
    {
     "data": {
      "text/plain": [
       "[<matplotlib.lines.Line2D at 0x7f7c490cf810>]"
      ]
     },
     "execution_count": 62,
     "metadata": {},
     "output_type": "execute_result"
    },
    {
     "data": {
      "image/png": "[encoded data removed]",
      "text/plain": [
       "<Figure size 432x288 with 1 Axes>"
      ]
     },
     "metadata": {
      "needs_background": "light"
     },
     "output_type": "display_data"
    }
   ],
   "source": [
    "# now find amplitude.  Need to find 0.5*(max(x) - min(x)) after the initial transient has gone away.  Taking time after T/2 \n",
    "# seems good\n",
    "\n",
    "w0 = 2.0\n",
    "ws = linspace(0.2, 2.0, 25)  # define the driving frequencies\n",
    "gamma = 0.2\n",
    "f = 1.0\n",
    "\n",
    "T = 30.0\n",
    "dt = 0.1\n",
    "\n",
    "ts = arange(0.0, T+dt, dt)\n",
    "Thalf = int(0.5*len(ts))\n",
    "amps = []\n",
    "for w in ws:\n",
    "    sol = solve_ivp(lambda t, y: dydt(t, y, w0, gamma, f, w*w0), (0.0, T), (0.0, 0.0), t_eval = ts)\n",
    "    A = 0.5*(max(sol.y[0][Thalf:]) - min(sol.y[0][Thalf:]))\n",
    "    amps.append(A)\n",
    "plot(ws, amps, '.-')"
   ]
  },
  {
   "cell_type": "code",
   "execution_count": 64,
   "metadata": {},
   "outputs": [
    {
     "data": {
      "text/plain": [
       "Text(0.5, 0, 'drive frequency')"
      ]
     },
     "execution_count": 64,
     "metadata": {},
     "output_type": "execute_result"
    },
    {
     "data": {
      "image/png": "[encoded data removed]",
      "text/plain": [
       "<Figure size 432x288 with 1 Axes>"
      ]
     },
     "metadata": {
      "needs_background": "light"
     },
     "output_type": "display_data"
    }
   ],
   "source": [
    "# now find amplitude.  Need to find 0.5*(max(x) - min(x)) after the initial transient has gone away.  Taking time after T/2 \n",
    "# seems good\n",
    "\n",
    "w0 = 2.0\n",
    "ws = linspace(0.2, 2.0, 25)    # driving frequencies\n",
    "gammas = [0.2, 0.5]    # solve it now at 2 difft values of gamma\n",
    "f = 1.0\n",
    "\n",
    "T = 30.0\n",
    "dt = 0.1\n",
    "\n",
    "ts = arange(0.0, T+dt, dt)\n",
    "Thalf = int(0.5*len(ts))\n",
    "\n",
    "for gamma in gammas:\n",
    "    amps = []\n",
    "    for w in ws:\n",
    "        sol = solve_ivp(lambda t, y: dydt(t, y, w0, gamma, f, w*w0), (0.0, T), (0.0, 0.0), t_eval = ts)\n",
    "        A = 0.5*(max(sol.y[0][Thalf:]) - min(sol.y[0][Thalf:]))\n",
    "        amps.append(A)\n",
    "    plot(ws, amps, '.-')\n",
    "legend(gammas, loc=0)\n",
    "ylabel('amplitude')\n",
    "xlabel('drive frequency')"
   ]
  },
  {
   "cell_type": "markdown",
   "metadata": {},
   "source": [
    "So as damping increases the resonance shifts to the left and gets smaller (i.e. the amplitude is not as big). Note the natural frequency of the system was $\\omega_0 = 2.0$."
   ]
  },
  {
   "cell_type": "markdown",
   "metadata": {},
   "source": [
    "# Lorenz attractor"
   ]
  },
  {
   "cell_type": "code",
   "execution_count": 66,
   "metadata": {},
   "outputs": [],
   "source": [
    "def lorenz(t, y, r, s, b):\n",
    "        # x = y[0], y = y[1], z = y[2]\n",
    "        # return dx/dt, dy/dt, dz/dt\n",
    "        return array([s*(y[1]-y[0]), r*y[0] - y[1] - y[0]*y[2], y[0]*y[1] - b*y[2]])"
   ]
  },
  {
   "cell_type": "code",
   "execution_count": 67,
   "metadata": {},
   "outputs": [
    {
     "data": {
      "text/plain": [
       "<matplotlib.collections.PathCollection at 0x7f7c48f3ba90>"
      ]
     },
     "execution_count": 67,
     "metadata": {},
     "output_type": "execute_result"
    },
    {
     "data": {
      "image/png": "[encoded data removed]",
      "text/plain": [
       "<Figure size 432x288 with 1 Axes>"
      ]
     },
     "metadata": {
      "needs_background": "light"
     },
     "output_type": "display_data"
    }
   ],
   "source": [
    "# non-chaotic regime\n",
    "r = 25.0\n",
    "s = 10.0\n",
    "b = 8./3.\n",
    "\n",
    "ts = linspace(0.0, 8.0, 1000)\n",
    "sol = solve_ivp(lambda t, y: lorenz(t, y, r, s, b), (0.0, 8.0), (-10.0, 5.0, 0.0), t_eval=ts)\n",
    "scatter(sol.y[0], sol.y[1], s=1)\n",
    "\n",
    "sol = solve_ivp(lambda t, y: lorenz(t, y, r, s, b), (0.0, 8.0), (10.0, 5.0, 0.0), t_eval=ts)\n",
    "scatter(sol.y[0], sol.y[1], s=1)\n",
    "\n",
    "# it has 2 stable attractors (both limit cycles)"
   ]
  },
  {
   "cell_type": "code",
   "execution_count": 68,
   "metadata": {},
   "outputs": [],
   "source": [
    "# chaotic regime\n",
    "r = 75.0\n",
    "s = 10.0\n",
    "b = 8./3.\n",
    "\n",
    "ts = linspace(0.0, 8.0, 1000)\n",
    "sol = solve_ivp(lambda t, y: lorenz(t, y, r, s, b), (0.0, 8.0), (-10.0, 5.0, 0.0), t_eval=ts)"
   ]
  },
  {
   "cell_type": "code",
   "execution_count": 69,
   "metadata": {},
   "outputs": [
    {
     "data": {
      "text/plain": [
       "<matplotlib.collections.PathCollection at 0x7f7c48edfb50>"
      ]
     },
     "execution_count": 69,
     "metadata": {},
     "output_type": "execute_result"
    },
    {
     "data": {
      "image/png": "[encoded data removed]",
      "text/plain": [
       "<Figure size 432x288 with 1 Axes>"
      ]
     },
     "metadata": {
      "needs_background": "light"
     },
     "output_type": "display_data"
    }
   ],
   "source": [
    "# system is chaotic\n",
    "scatter(sol.y[0], sol.y[1], s=1)"
   ]
  },
  {
   "cell_type": "code",
   "execution_count": null,
   "metadata": {},
   "outputs": [],
   "source": []
  }
 ],
 "metadata": {
  "kernelspec": {
   "display_name": "Python 3",
   "language": "python",
   "name": "python3"
  },
  "language_info": {
   "codemirror_mode": {
    "name": "ipython",
    "version": 3
   },
   "file_extension": ".py",
   "mimetype": "text/x-python",
   "name": "python",
   "nbconvert_exporter": "python",
   "pygments_lexer": "ipython3",
   "version": "3.7.4"
  }
 },
 "nbformat": 4,
 "nbformat_minor": 2
}
