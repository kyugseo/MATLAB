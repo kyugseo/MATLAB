{
 "cells": [
  {
   "cell_type": "markdown",
   "metadata": {},
   "source": [
    <span style=\"font-size: 20px\">\n",
    "Root finding/Extremization "
   ]
  },
  {
   "cell_type": "code",
   "execution_count": 1,
   "metadata": {
    "scrolled": true
   },
   "outputs": [
    {
     "name": "stdout",
     "output_type": "stream",
     "text": [
      "Populating the interactive namespace from numpy and matplotlib\n"
     ]
    }
   ],
   "source": [
    "%pylab inline"
   ]
  },
  {
   "cell_type": "code",
   "execution_count": 2,
   "metadata": {},
   "outputs": [],
   "source": [
    "import scipy.optimize as opt"
   ]
  },
  {
   "cell_type": "code",
   "execution_count": 3,
   "metadata": {},
   "outputs": [],
   "source": [
    "import scipy.constants as const"
   ]
  },
  {
   "cell_type": "markdown",
   "metadata": {},
   "source": [
    "## Root finding\n"
   ]
  },
  {
   "cell_type": "markdown",
   "metadata": {},
   "source": []
  },
  {
   "cell_type": "markdown",
   "metadata": {},
   "source": [
    "## Bisection Method"
   ]
  },
  {
   "cell_type": "code",
   "execution_count": 4,
   "metadata": {},
   "outputs": [
    {
     "data": {
      "text/plain": [
       "Text(0, 0.5, 'y')"
      ]
     },
     "execution_count": 4,
     "metadata": {},
     "output_type": "execute_result"
    },
    {
     "data": {
      "image/png": "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\n",
      "text/plain": [
       "<Figure size 432x288 with 1 Axes>"
      ]
     },
     "metadata": {
      "needs_background": "light"
     },
     "output_type": "display_data"
    }
   ],
   "source": [
    "#Consider the function 𝑠in(𝑐osℎ(2𝑥)). Plot this function on the interval [0, 1]. Does it have a root? If so, how many.\n",
    "x=linspace(0,1,100) #x value = independent var\n",
    "plot(x,sin(cosh(2*x))) \n",
    "plot([0,1],[0,0],\"r--\") # lines at y=0 \n",
    "xlabel('x')\n",
    "ylabel('y')"
   ]
  },
  {
   "cell_type": "markdown",
   "metadata": {},
   "source": [
    "Does it have a root? If so, how many.\n",
    "It has 1 root on the interval [0,1]"
   ]
  },
  {
   "cell_type": "code",
   "execution_count": 5,
   "metadata": {},
   "outputs": [
    {
     "data": {
      "text/plain": [
       "(0.9057631362320535,\n",
       "       converged: True\n",
       "            flag: 'converged'\n",
       "  function_calls: 41\n",
       "      iterations: 39\n",
       "            root: 0.9057631362320535)"
      ]
     },
     "execution_count": 5,
     "metadata": {},
     "output_type": "execute_result"
    }
   ],
   "source": [
    "def f(x): # defie function\n",
    "    return (sin(cosh(2*x)))\n",
    "\n",
    "root = opt.bisect(f, 0, 1,full_output = True)\n",
    "root"
   ]
  },
  {
   "cell_type": "markdown",
   "metadata": {},
   "source": [
    " iterations: 39"
   ]
  },
  {
   "cell_type": "markdown",
   "metadata": {},
   "source": [
    "## Newton-Raphson"
   ]
  },
  {
   "cell_type": "code",
   "execution_count": 6,
   "metadata": {},
   "outputs": [
    {
     "data": {
      "text/plain": [
       "(0.9057631362304266,\n",
       "       converged: True\n",
       "            flag: 'converged'\n",
       "  function_calls: 8\n",
       "      iterations: 4\n",
       "            root: 0.9057631362304266)"
      ]
     },
     "execution_count": 6,
     "metadata": {},
     "output_type": "execute_result"
    }
   ],
   "source": [
    "def derivativef(x):\n",
    "    return cos(cosh(2.0*x))*sinh(2.0*x)*2.0\n",
    "\n",
    "root = opt.newton(f, 1,derivativef,full_output = True)\n",
    "root"
   ]
  },
  {
   "cell_type": "markdown",
   "metadata": {},
   "source": [
    "function_calls: 8 and iterations: 4 "
   ]
  },
  {
   "cell_type": "markdown",
   "metadata": {},
   "source": [
    "## Secant Method"
   ]
  },
  {
   "cell_type": "code",
   "execution_count": 7,
   "metadata": {},
   "outputs": [
    {
     "data": {
      "text/plain": [
       "(0.9057631362304265,\n",
       "       converged: True\n",
       "            flag: 'converged'\n",
       "  function_calls: 6\n",
       "      iterations: 5\n",
       "            root: 0.9057631362304265)"
      ]
     },
     "execution_count": 7,
     "metadata": {},
     "output_type": "execute_result"
    }
   ],
   "source": [
    "root = opt.newton(f, 1,full_output = True)\n",
    "root"
   ]
  },
  {
   "cell_type": "markdown",
   "metadata": {},
   "source": [
    "function_calls: 6 and iterations: 5 less function call, more iterations."
   ]
  },
  {
   "cell_type": "markdown",
   "metadata": {},
   "source": [
    "## Brent’s Method"
   ]
  },
  {
   "cell_type": "code",
   "execution_count": 8,
   "metadata": {},
   "outputs": [
    {
     "data": {
      "text/plain": [
       "(0.9057631362304265,\n",
       "       converged: True\n",
       "            flag: 'converged'\n",
       "  function_calls: 10\n",
       "      iterations: 9\n",
       "            root: 0.9057631362304265)"
      ]
     },
     "execution_count": 8,
     "metadata": {},
     "output_type": "execute_result"
    }
   ],
   "source": [
    "root=opt.brentq(f,0,1,full_output = True)\n",
    "root"
   ]
  },
  {
   "cell_type": "markdown",
   "metadata": {},
   "source": [
    "function_calls: 10 and iterations: 9\n",
    "\n",
    "*markedly faster than bisection*"
   ]
  },
  {
   "cell_type": "code",
   "execution_count": 9,
   "metadata": {},
   "outputs": [
    {
     "name": "stdout",
     "output_type": "stream",
     "text": [
      "[0.90576314]\n"
     ]
    }
   ],
   "source": [
    "root=opt.root(f,1)\n",
    "print(root.x)"
   ]
  },
  {
   "cell_type": "markdown",
   "metadata": {},
   "source": [
    "## Applications involving root finding:\n"
   ]
  },
  {
   "cell_type": "markdown",
   "metadata": {},
   "source": [
    "### 1.Lagrange points"
   ]
  },
  {
   "cell_type": "code",
   "execution_count": 10,
   "metadata": {},
   "outputs": [],
   "source": [
    "# constants\n",
    "\n",
    "G=6.674e-11\n",
    "M = 5.974e24\n",
    "m = 7.348e22\n",
    "R = 3.844e8\n",
    "w= 2.662e-6"
   ]
  },
  {
   "cell_type": "code",
   "execution_count": 11,
   "metadata": {},
   "outputs": [],
   "source": [
    "def lagrangef(r):\n",
    "        return G*M/r/r-G*m/(R-r)**2-w*w*r"
   ]
  },
  {
   "cell_type": "code",
   "execution_count": 12,
   "metadata": {},
   "outputs": [
    {
     "name": "stdout",
     "output_type": "stream",
     "text": [
      "Solve for the distance r:  326045071.66535544\n",
      "Fraction:  0.8481921739473347\n"
     ]
    }
   ],
   "source": [
    "a=1000000\n",
    "b=3.5e8\n",
    "L=opt.brentq(lagrangef,a,b)\n",
    "\n",
    "print(\"Solve for the distance r: \",L)\n",
    "print('Fraction: ',L/R)"
   ]
  },
  {
   "cell_type": "markdown",
   "metadata": {},
   "source": [
    "about 85% away from the earth"
   ]
  },
  {
   "cell_type": "markdown",
   "metadata": {},
   "source": [
    "### Particle in finite square well"
   ]
  },
  {
   "cell_type": "code",
   "execution_count": 13,
   "metadata": {},
   "outputs": [],
   "source": [
    "E=arange(0,5,.01)\n",
    "L=1e-9\n",
    "V=5\n",
    "h=const.hbar\n",
    "me = const.m_e\n",
    "qe=const.e\n",
    "eV=const.electron_volt"
   ]
  },
  {
   "cell_type": "code",
   "execution_count": 14,
   "metadata": {},
   "outputs": [],
   "source": [
    "def LHS(E):\n",
    "    return tan(sqrt(1e-9**2*me*E*eV/(2*h**2)))"
   ]
  },
  {
   "cell_type": "code",
   "execution_count": 15,
   "metadata": {},
   "outputs": [],
   "source": [
    "def RHSeven(E):\n",
    "    return sqrt((5-E)/E)\n",
    "def RHSodd(E):\n",
    "    return -sqrt(E/(5-E))"
   ]
  },
  {
   "cell_type": "code",
   "execution_count": 16,
   "metadata": {},
   "outputs": [
    {
     "name": "stderr",
     "output_type": "stream",
     "text": [
      "/opt/conda/lib/python3.7/site-packages/ipykernel_launcher.py:2: RuntimeWarning: divide by zero encountered in true_divide\n",
      "  \n"
     ]
    },
    {
     "data": {
      "text/plain": [
       "<matplotlib.legend.Legend at 0x7f8214699c50>"
      ]
     },
     "execution_count": 16,
     "metadata": {},
     "output_type": "execute_result"
    },
    {
     "data": {
      "image/png": "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\n",
      "text/plain": [
       "<Figure size 432x288 with 1 Axes>"
      ]
     },
     "metadata": {
      "needs_background": "light"
     },
     "output_type": "display_data"
    }
   ],
   "source": [
    "scatter(E,LHS(E),s=1)\n",
    "plot(E,RHSeven(E),'g')\n",
    "plot(E,RHSodd(E),'y')\n",
    "plot([0,5],[0,0],\"r--\")\n",
    "\n",
    "ylim(-5,5)\n",
    "legend(('LHS even','LHS odd'),loc=0)"
   ]
  },
  {
   "cell_type": "markdown",
   "metadata": {},
   "source": [
    "Initial guess (graph) <br>\n",
    "odd root : ~1.0 and ~4.0 <br>\n",
    "even root : ~2.3"
   ]
  },
  {
   "cell_type": "code",
   "execution_count": 17,
   "metadata": {},
   "outputs": [
    {
     "name": "stdout",
     "output_type": "stream",
     "text": [
      "1.5041206504669486\n",
      "6.0164826018678\n"
     ]
    }
   ],
   "source": [
    "root=opt.newton(LHS,1)\n",
    "print(root)\n",
    "root=opt.newton(LHS,4)\n",
    "print(root)"
   ]
  },
  {
   "cell_type": "markdown",
   "metadata": {},
   "source": [
    "## Extremization"
   ]
  },
  {
   "cell_type": "markdown",
   "metadata": {},
   "source": [
    "### Minimization of functions"
   ]
  },
  {
   "cell_type": "code",
   "execution_count": 18,
   "metadata": {},
   "outputs": [],
   "source": [
    "def f(x):\n",
    "    return 2.1*x**2-3.4*x-2.6"
   ]
  },
  {
   "cell_type": "code",
   "execution_count": 19,
   "metadata": {},
   "outputs": [
    {
     "data": {
      "text/plain": [
       "Text(0, 0.5, 'f(x)')"
      ]
     },
     "execution_count": 19,
     "metadata": {},
     "output_type": "execute_result"
    },
    {
     "data": {
      "image/png": "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\n",
      "text/plain": [
       "<Figure size 432x288 with 1 Axes>"
      ]
     },
     "metadata": {
      "needs_background": "light"
     },
     "output_type": "display_data"
    }
   ],
   "source": [
    "xs=linspace(-5,5)\n",
    "plot(xs,f(xs))\n",
    "xlabel('x')\n",
    "ylabel('f(x)')"
   ]
  },
  {
   "cell_type": "code",
   "execution_count": 20,
   "metadata": {},
   "outputs": [
    {
     "name": "stdout",
     "output_type": "stream",
     "text": [
      "     fun: -3.9761904761904763\n",
      "    nfev: 9\n",
      "     nit: 5\n",
      " success: True\n",
      "       x: 0.8095238095238095\n"
     ]
    }
   ],
   "source": [
    "minimize=opt.minimize_scalar(f,bracket=(0,1.0),method='brent')\n",
    "print(minimize)"
   ]
  },
  {
   "cell_type": "code",
   "execution_count": 21,
   "metadata": {},
   "outputs": [
    {
     "name": "stdout",
     "output_type": "stream",
     "text": [
      "     fun: -3.9761904761904763\n",
      "    nfev: 44\n",
      "     nit: 39\n",
      " success: True\n",
      "       x: 0.8095238014820734\n"
     ]
    }
   ],
   "source": [
    "minimize=opt.minimize_scalar(f,bracket=(0,1.0),method='golden')\n",
    "print(minimize)"
   ]
  },
  {
   "cell_type": "markdown",
   "metadata": {},
   "source": [
    "nfev and nit are different, the method'brent' has smaller number."
   ]
  },
  {
   "cell_type": "code",
   "execution_count": 22,
   "metadata": {},
   "outputs": [
    {
     "name": "stdout",
     "output_type": "stream",
     "text": [
      "      fun: -3.9761904761904763\n",
      " hess_inv: array([[1]])\n",
      "      jac: array([2.98023224e-08])\n",
      "  message: 'Optimization terminated successfully.'\n",
      "     nfev: 9\n",
      "      nit: 1\n",
      "     njev: 3\n",
      "   status: 0\n",
      "  success: True\n",
      "        x: array([0.80952381])\n"
     ]
    }
   ],
   "source": [
    "minimize=opt.minimize(f,1)\n",
    "print(minimize)"
   ]
  },
  {
   "cell_type": "markdown",
   "metadata": {},
   "source": [
    "## Applications of Extremization"
   ]
  },
  {
   "cell_type": "markdown",
   "metadata": {},
   "source": [
    "## Landau free energy of phase transitions"
   ]
  },
  {
   "cell_type": "code",
   "execution_count": 23,
   "metadata": {},
   "outputs": [],
   "source": [
    "def freeE(M,t,b,h):\n",
    "    return (t-1.0)*M*M + b*M*M*M*M + h*M"
   ]
  },
  {
   "cell_type": "code",
   "execution_count": 24,
   "metadata": {},
   "outputs": [
    {
     "data": {
      "text/plain": [
       "<matplotlib.legend.Legend at 0x7f8214585690>"
      ]
     },
     "execution_count": 24,
     "metadata": {},
     "output_type": "execute_result"
    },
    {
     "data": {
      "image/png": "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\n",
      "text/plain": [
       "<Figure size 432x288 with 1 Axes>"
      ]
     },
     "metadata": {
      "needs_background": "light"
     },
     "output_type": "display_data"
    }
   ],
   "source": [
    "b=0.07\n",
    "h=0.0\n",
    "tlist=[0.4,0.8,1.0,1.4]\n",
    "Ms=linspace(-3,3,100)\n",
    "\n",
    "for t in tlist:\n",
    "    plot(Ms,freeE(Ms,t,b,h))\n",
    "ylabel(r\"$F(M)$\")\n",
    "xlabel(r\"$M$\")\n",
    "legend(tlist,loc=0)"
   ]
  },
  {
   "cell_type": "code",
   "execution_count": 25,
   "metadata": {},
   "outputs": [
    {
     "name": "stdout",
     "output_type": "stream",
     "text": [
      "t= 0.4:  [-2.07019666]\n",
      "t= 0.8:  [-1.19523416]\n",
      "t= 1.0:  [0.]\n",
      "t= 1.4:  [0.]\n"
     ]
    }
   ],
   "source": [
    "minimize=opt.minimize(freeE,-2,(0.4,0.07,0))\n",
    "print(\"t= 0.4: \", minimize.x)\n",
    "\n",
    "minimize=opt.minimize(freeE,-1.2,(0.8,0.07,0))\n",
    "print('t= 0.8: ',minimize.x)\n",
    "\n",
    "minimize=opt.minimize(freeE,0,(1.0,0.07,0))\n",
    "print('t= 1.0: ',minimize.x)\n",
    "\n",
    "minimize=opt.minimize(freeE,0,(1.4,0.07,0))\n",
    "print('t= 1.4: ',minimize.x)"
   ]
  },
  {
   "cell_type": "code",
   "execution_count": 26,
   "metadata": {},
   "outputs": [
    {
     "data": {
      "text/plain": [
       "Text(0, 0.5, '$M$')"
      ]
     },
     "execution_count": 26,
     "metadata": {},
     "output_type": "execute_result"
    },
    {
     "data": {
      "image/png": "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\n",
      "text/plain": [
       "<Figure size 432x288 with 1 Axes>"
      ]
     },
     "metadata": {
      "needs_background": "light"
     },
     "output_type": "display_data"
    }
   ],
   "source": [
    "b=0.07\n",
    "h=0\n",
    "Mstars=[]\n",
    "tlist=linspace(0.4,1.4,50)\n",
    "\n",
    "for t in tlist:\n",
    "    sol=opt.minimize(freeE,1,args=(t,b,h))\n",
    "    Mstars.append(sol.x)\n",
    "plot(tlist,Mstars,\".\")\n",
    "xlabel(\"$t$\")\n",
    "ylabel(\"$M$\")"
   ]
  },
  {
   "cell_type": "markdown",
   "metadata": {},
   "source": [
    " M satisfy the conditions of a 2nd order phase transition from this model t=1.0"
   ]
  },
  {
   "cell_type": "code",
   "execution_count": 27,
   "metadata": {},
   "outputs": [
    {
     "data": {
      "text/plain": [
       "<matplotlib.legend.Legend at 0x7f8214403ad0>"
      ]
     },
     "execution_count": 27,
     "metadata": {},
     "output_type": "execute_result"
    },
    {
     "data": {
      "image/png": "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\n",
      "text/plain": [
       "<Figure size 432x288 with 1 Axes>"
      ]
     },
     "metadata": {
      "needs_background": "light"
     },
     "output_type": "display_data"
    }
   ],
   "source": [
    "t=0.6\n",
    "b=0.07\n",
    "hs=[-1.0,0.0,1.0]\n",
    "\n",
    "Ms=linspace(-3,3,100)\n",
    "\n",
    "for h in hs:\n",
    "    plot(Ms,freeE(Ms,t,b,h))\n",
    "    \n",
    "ylabel(r\"$F(M)$\")\n",
    "xlabel(r\"$M$\")\n",
    "legend(hs,loc=0)"
   ]
  },
  {
   "cell_type": "markdown",
   "metadata": {},
   "source": [
    "so when h=-1, and h=1 there is only one minimum. And M>0 or M<0 for h p/m 1\n",
    "we need to use external field to get it back again from where it started."
   ]
  },
  {
   "cell_type": "code",
   "execution_count": 28,
   "metadata": {},
   "outputs": [],
   "source": [
    "t=0.6\n",
    "b=0.07\n",
    "hfwd=linspace(-1.0,1.0,100)\n",
    "Mfwd= []\n",
    "M0=1.0\n",
    "for h in hfwd:\n",
    "    sol=opt.minimize(freeE,M0,args=(t,b,h))\n",
    "    M0=sol.x\n",
    "    Mfwd.append(M0)\n"
   ]
  },
  {
   "cell_type": "code",
   "execution_count": 29,
   "metadata": {},
   "outputs": [],
   "source": [
    "t=0.6\n",
    "b=0.07\n",
    "hbwd=linspace(1.0,-1.0,100)\n",
    "Mbwd=[]\n",
    "M0=1.0\n",
    "for h in hbwd:\n",
    "    sol=opt.minimize(freeE,M0,args=(t,b,h))\n",
    "    M0=sol.x\n",
    "    Mbwd.append(M0)\n"
   ]
  },
  {
   "cell_type": "code",
   "execution_count": 30,
   "metadata": {},
   "outputs": [
    {
     "data": {
      "text/plain": [
       "<matplotlib.legend.Legend at 0x7f8214481f50>"
      ]
     },
     "execution_count": 30,
     "metadata": {},
     "output_type": "execute_result"
    },
    {
     "data": {
      "image/png": "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\n",
      "text/plain": [
       "<Figure size 432x288 with 1 Axes>"
      ]
     },
     "metadata": {
      "needs_background": "light"
     },
     "output_type": "display_data"
    }
   ],
   "source": [
    "plot(hfwd,Mfwd,'b')\n",
    "plot(hbwd,Mbwd,'c')\n",
    "xlabel('h')\n",
    "ylabel(\"M\")\n",
    "legend(('forward sweep','backward sweep'),loc=0)"
   ]
  },
  {
   "cell_type": "markdown",
   "metadata": {},
   "source": [
    "the system switches at different h because it rememberes where it has been. (It start with M>0)"
   ]
  },
  {
   "cell_type": "markdown",
   "metadata": {},
   "source": [
    "### Ode to incandescent light: \n",
    "Optimal operating temperature for a lightbulb"
   ]
  },
  {
   "cell_type": "code",
   "execution_count": 31,
   "metadata": {},
   "outputs": [],
   "source": [
    "import scipy.integrate as integrate"
   ]
  },
  {
   "cell_type": "code",
   "execution_count": 32,
   "metadata": {},
   "outputs": [],
   "source": [
    "gamma1= 390e-9\n",
    "gamma2= 750e-9\n",
    "T=arange(300,10000)\n",
    "\n",
    "c=const.speed_of_light\n",
    "h=const.h\n",
    "kb=const.k"
   ]
  },
  {
   "cell_type": "code",
   "execution_count": 33,
   "metadata": {},
   "outputs": [],
   "source": [
    "def f(x):\n",
    "    return 15*x*x*x/(pi**4)/(exp(x)-1)"
   ]
  },
  {
   "cell_type": "code",
   "execution_count": 34,
   "metadata": {},
   "outputs": [],
   "source": [
    "\n",
    "def n(T):\n",
    "    upper=h*c/gamma1/kb/T\n",
    "    lower=h*c/gamma2/kb/T\n",
    "    return integrate.quad(f,upper,lower)\n",
    "\n",
    "\n",
    "nT=[]\n",
    "\n",
    "for temp in T:\n",
    "    nT.append(n(temp))\n",
    "\n",
    "nT=array(nT)\n",
    "nT=nT[:,1]"
   ]
  },
  {
   "cell_type": "code",
   "execution_count": 35,
   "metadata": {},
   "outputs": [
    {
     "name": "stderr",
     "output_type": "stream",
     "text": [
      "/opt/conda/lib/python3.7/site-packages/matplotlib/text.py:1150: FutureWarning: elementwise comparison failed; returning scalar instead, but in the future will perform elementwise comparison\n",
      "  if s != self._text:\n"
     ]
    },
    {
     "data": {
      "text/plain": [
       "Text(0, 0.5, '\\\\Eta(T)')"
      ]
     },
     "execution_count": 35,
     "metadata": {},
     "output_type": "execute_result"
    },
    {
     "data": {
      "image/png": "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\n",
      "text/plain": [
       "<Figure size 432x288 with 1 Axes>"
      ]
     },
     "metadata": {
      "needs_background": "light"
     },
     "output_type": "display_data"
    }
   ],
   "source": [
    "plot(T,nT)\n",
    "xlabel(T)\n",
    "ylabel(\"\\Eta(T)\")"
   ]
  },
  {
   "cell_type": "markdown",
   "metadata": {},
   "source": [
    "<pre style='color:red'> <span style=\"font-size: 20px\">\n",
    "TA's comment:should not have a peak at low temperatures.\n",
    "</span>\n",
    "</pre>"
   ]
  },
  {
   "cell_type": "code",
   "execution_count": 36,
   "metadata": {},
   "outputs": [
    {
     "name": "stdout",
     "output_type": "stream",
     "text": [
      "At T =  [1200.]  efficiency is maximized\n"
     ]
    },
    {
     "name": "stderr",
     "output_type": "stream",
     "text": [
      "/opt/conda/lib/python3.7/site-packages/ipykernel_launcher.py:2: RuntimeWarning: overflow encountered in exp\n",
      "  \n"
     ]
    }
   ],
   "source": [
    "minimize=opt.minimize(f,1200)\n",
    "print('At T = ',minimize.x,\" efficiency is maximized\")"
   ]
  },
  {
   "cell_type": "markdown",
   "metadata": {},
   "source": [
    "4. Incandescent lightbulbs use tungsten as the filament (the highest melting temperature metal). What is the melting temperature of tungsten?\n",
    "\n",
    "Tungsten/Melting point = 3,422 °C\n",
    "\n",
    "5. What challenge does the optimal temperature pose for the operation of incandescent lightbulbs. What is the maximum efficiency we could expect to get from a metal like tungsten?\n",
    "\n",
    "3.5%"
   ]
  },
  {
   "cell_type": "code",
   "execution_count": null,
   "metadata": {},
   "outputs": [],
   "source": []
  }
 ],
 "metadata": {
  "kernelspec": {
   "display_name": "Python 3",
   "language": "python",
   "name": "python3"
  },
  "language_info": {
   "codemirror_mode": {
    "name": "ipython",
    "version": 3
   },
   "file_extension": ".py",
   "mimetype": "text/x-python",
   "name": "python",
   "nbconvert_exporter": "python",
   "pygments_lexer": "ipython3",
   "version": "3.8.5"
  }
 },
 "nbformat": 4,
 "nbformat_minor": 4
}
