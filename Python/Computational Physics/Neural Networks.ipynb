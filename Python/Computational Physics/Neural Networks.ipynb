{
 "cells": [
  {
   "cell_type": "code",
   "execution_count": 1,
   "metadata": {},
   "outputs": [
    {
     "name": "stdout",
     "output_type": "stream",
     "text": [
      "Populating the interactive namespace from numpy and matplotlib\n"
     ]
    }
   ],
   "source": [
    "%pylab inline"
   ]
  },
  {
   "cell_type": "code",
   "execution_count": 2,
   "metadata": {},
   "outputs": [
    {
     "name": "stderr",
     "output_type": "stream",
     "text": [
      "Using TensorFlow backend.\n",
      "/opt/conda/lib/python3.7/site-packages/tensorflow/python/framework/dtypes.py:526: FutureWarning: Passing (type, 1) or '1type' as a synonym of type is deprecated; in a future version of numpy, it will be understood as (type, (1,)) / '(1,)type'.\n",
      "  _np_qint8 = np.dtype([(\"qint8\", np.int8, 1)])\n",
      "/opt/conda/lib/python3.7/site-packages/tensorflow/python/framework/dtypes.py:527: FutureWarning: Passing (type, 1) or '1type' as a synonym of type is deprecated; in a future version of numpy, it will be understood as (type, (1,)) / '(1,)type'.\n",
      "  _np_quint8 = np.dtype([(\"quint8\", np.uint8, 1)])\n",
      "/opt/conda/lib/python3.7/site-packages/tensorflow/python/framework/dtypes.py:528: FutureWarning: Passing (type, 1) or '1type' as a synonym of type is deprecated; in a future version of numpy, it will be understood as (type, (1,)) / '(1,)type'.\n",
      "  _np_qint16 = np.dtype([(\"qint16\", np.int16, 1)])\n",
      "/opt/conda/lib/python3.7/site-packages/tensorflow/python/framework/dtypes.py:529: FutureWarning: Passing (type, 1) or '1type' as a synonym of type is deprecated; in a future version of numpy, it will be understood as (type, (1,)) / '(1,)type'.\n",
      "  _np_quint16 = np.dtype([(\"quint16\", np.uint16, 1)])\n",
      "/opt/conda/lib/python3.7/site-packages/tensorflow/python/framework/dtypes.py:530: FutureWarning: Passing (type, 1) or '1type' as a synonym of type is deprecated; in a future version of numpy, it will be understood as (type, (1,)) / '(1,)type'.\n",
      "  _np_qint32 = np.dtype([(\"qint32\", np.int32, 1)])\n",
      "/opt/conda/lib/python3.7/site-packages/tensorflow/python/framework/dtypes.py:535: FutureWarning: Passing (type, 1) or '1type' as a synonym of type is deprecated; in a future version of numpy, it will be understood as (type, (1,)) / '(1,)type'.\n",
      "  np_resource = np.dtype([(\"resource\", np.ubyte, 1)])\n"
     ]
    },
    {
     "data": {
      "text/plain": [
       "[]"
      ]
     },
     "execution_count": 2,
     "metadata": {},
     "output_type": "execute_result"
    }
   ],
   "source": [
    "# do we have GPU?\n",
    "from keras import backend as K\n",
    "K.tensorflow_backend._get_available_gpus()"
   ]
  },
  {
   "cell_type": "markdown",
   "metadata": {},
   "source": [
    "# Artificial Neural Nets (ANNs)"
   ]
  },
  {
   "cell_type": "markdown",
   "metadata": {},
   "source": [
    "The following is a template for training an ANN using Keras with the Tensorflow backend.  There are several cells where you will have to fill in the missing steps.  Your activity will also require you to make some adjustments to the neural net parameters too."
   ]
  },
  {
   "cell_type": "code",
   "execution_count": 3,
   "metadata": {},
   "outputs": [],
   "source": [
    "from keras.layers import Dense, Dropout, Activation, Flatten, Input, Conv2D"
   ]
  },
  {
   "cell_type": "code",
   "execution_count": 4,
   "metadata": {},
   "outputs": [],
   "source": [
    "from keras.layers import MaxPooling2D"
   ]
  },
  {
   "cell_type": "code",
   "execution_count": 5,
   "metadata": {},
   "outputs": [],
   "source": [
    "from keras.models import Model"
   ]
  },
  {
   "cell_type": "code",
   "execution_count": 6,
   "metadata": {},
   "outputs": [],
   "source": [
    "from keras.callbacks import EarlyStopping"
   ]
  },
  {
   "cell_type": "code",
   "execution_count": 7,
   "metadata": {},
   "outputs": [],
   "source": [
    "from keras import optimizers"
   ]
  },
  {
   "cell_type": "code",
   "execution_count": 8,
   "metadata": {},
   "outputs": [
    {
     "data": {
      "text/plain": [
       "'/home/jupyter/2021/PHYS 395/Week 9'"
      ]
     },
     "execution_count": 8,
     "metadata": {},
     "output_type": "execute_result"
    }
   ],
   "source": [
    "pwd"
   ]
  },
  {
   "cell_type": "markdown",
   "metadata": {},
   "source": [
    "## Read in data"
   ]
  },
  {
   "cell_type": "code",
   "execution_count": 10,
   "metadata": {},
   "outputs": [],
   "source": [
    "import glob"
   ]
  },
  {
   "cell_type": "code",
   "execution_count": 11,
   "metadata": {},
   "outputs": [
    {
     "data": {
      "text/plain": [
       "7000"
      ]
     },
     "execution_count": 11,
     "metadata": {},
     "output_type": "execute_result"
    }
   ],
   "source": [
    "flist=glob.glob('Ising/*/*.dat')\n",
    "len(flist)"
   ]
  },
  {
   "cell_type": "code",
   "execution_count": 13,
   "metadata": {},
   "outputs": [
    {
     "data": {
      "text/plain": [
       "['Ising/T2.28/img369.dat',\n",
       " 'Ising/T2.28/img126.dat',\n",
       " 'Ising/T2.28/img231.dat',\n",
       " 'Ising/T2.28/img315.dat',\n",
       " 'Ising/T2.28/img463.dat',\n",
       " 'Ising/T2.28/img312.dat',\n",
       " 'Ising/T2.28/img464.dat',\n",
       " 'Ising/T2.28/img8.dat',\n",
       " 'Ising/T2.28/img78.dat',\n",
       " 'Ising/T2.28/img418.dat']"
      ]
     },
     "execution_count": 13,
     "metadata": {},
     "output_type": "execute_result"
    }
   ],
   "source": [
    "flist[:10]"
   ]
  },
  {
   "cell_type": "code",
   "execution_count": 24,
   "metadata": {},
   "outputs": [
    {
     "name": "stdout",
     "output_type": "stream",
     "text": [
      "(7000, 32, 32, 1) (7000,)\n"
     ]
    }
   ],
   "source": [
    "X = []   # the 2D image files\n",
    "Y = []   # labels for each image. T<=Tc, y=1 else y=0\n",
    "Temps = []   # Temperature that each image was taken at\n",
    "\n",
    "\n",
    "Tc= 2.27\n",
    "# write code to loop and read in all the image files and generate labels\n",
    "for f in flist: \n",
    "        x = genfromtxt(f)\n",
    "        L= len(x)\n",
    "        x = reshape(x, (L,L,1))\n",
    "        X.append(x)\n",
    "        \n",
    "        #get temperature from file name\n",
    "        T= float(f.split('/')[1][1:])\n",
    "        \n",
    "        Temps.append(T)\n",
    "        \n",
    "        if T <= Tc:\n",
    "            Y.append(1)\n",
    "        else:\n",
    "            Y.append(0)\n",
    "# convert X, Y, Temps into arrays\n",
    "X= array(X)\n",
    "Y= array(Y)\n",
    "Temps= array(Temps)\n",
    "\n",
    "# print out shape of X, Y.  They should be of shape (Nimage, L, L, 1), (Nimage,)\n",
    "print(shape(X),shape(Y))"
   ]
  },
  {
   "cell_type": "markdown",
   "metadata": {},
   "source": [
    "How many images total were there?  and what is the size L of each image?\n",
    "\n",
    "There are 7000 images of size of 32x32\n"
   ]
  },
  {
   "cell_type": "code",
   "execution_count": 20,
   "metadata": {},
   "outputs": [
    {
     "data": {
      "image/png": "[encoded data removed]",
      "text/plain": [
       "<Figure size 432x288 with 3 Axes>"
      ]
     },
     "metadata": {
      "needs_background": "light"
     },
     "output_type": "display_data"
    }
   ],
   "source": [
    "# Make image plots of sevaral snapshots: i) T < Tc  ii) T ~ Tc and iii) T > Tc\n",
    "\n",
    "#T < Tc\n",
    "\n",
    "ii = where(Temps == 1.5)[0]\n",
    "subplot(131)\n",
    "imshow(X[ii[10],:,:,0])\n",
    "\n",
    "# T ! Tc\n",
    "ii = where(Temps == 2.27)[0]\n",
    "subplot(132)\n",
    "imshow(X[ii[10],:,:,0])\n",
    "\n",
    "\n",
    "# T > Tc\n",
    "ii = where(Temps == 3.0)[0]\n",
    "subplot(133)\n",
    "imshow(X[ii[10],:,:,0])\n",
    "\n",
    "tight_layout()"
   ]
  },
  {
   "cell_type": "markdown",
   "metadata": {},
   "source": [
    "Increasement in magnetization as the tempererature gets lower"
   ]
  },
  {
   "cell_type": "markdown",
   "metadata": {},
   "source": [
    "## Create Training, Validation, Test data"
   ]
  },
  {
   "cell_type": "markdown",
   "metadata": {},
   "source": [
    "Split your data so that 70% is in the training set and 15% are in the validation and test sets respectively."
   ]
  },
  {
   "cell_type": "code",
   "execution_count": 29,
   "metadata": {},
   "outputs": [
    {
     "name": "stdout",
     "output_type": "stream",
     "text": [
      "(4900, 32, 32, 1) (1050, 32, 32, 1) (1050, 32, 32, 1)\n"
     ]
    }
   ],
   "source": [
    "# Fill in the missing code to split the data\n",
    "\n",
    "Ntrain = int(0.7*len(Y))\n",
    "Nvalid = int(0.15*len(Y))\n",
    "Ntest = len(Y)-Ntrain-Nvalid\n",
    "\n",
    "# shuffle the original data so that the distribution of labels will be similar across the splittings\n",
    "idxs = arange(len(Y))\n",
    "shuffle(idxs)\n",
    "\n",
    "# make your splits into an (xtrain, ytrain, Ttrain), (xvalid, yvalid, Tvalid), (xtest, ytest, Ttest)\n",
    "xtrain = X[idxs[:Ntrain]]\n",
    "ytrain = Y[idxs[:Ntrain]]\n",
    "Ttrain = Temps[idxs[:Ntrain]]\n",
    "\n",
    "xvalid = X[idxs[Ntrain:Ntrain+Nvalid]]\n",
    "yvalid = Y[idxs[Ntrain:Ntrain+Nvalid]]\n",
    "Tvalid = Temps[idxs[Ntrain:Ntrain+Nvalid]]\n",
    "\n",
    "xtest = X[idxs[-Ntest:]]\n",
    "ytest = Y[idxs[-Ntest:]]\n",
    "Ttest = Temps[idxs[-Ntest:]]\n",
    "\n",
    "print(shape(xtrain),shape(xvalid),shape(xtest))"
   ]
  },
  {
   "cell_type": "markdown",
   "metadata": {},
   "source": [
    "## Augment the training data  (Run only when instructed to in the activity guide)"
   ]
  },
  {
   "cell_type": "markdown",
   "metadata": {},
   "source": [
    "For the 2D square Ising model, the system is symmetric under left->right and up->down flips.  Add these symmetry operations to triple your training data."
   ]
  },
  {
   "cell_type": "code",
   "execution_count": 30,
   "metadata": {},
   "outputs": [
    {
     "ename": "SyntaxError",
     "evalue": "invalid syntax (<ipython-input-30-64912749c73f>, line 8)",
     "output_type": "error",
     "traceback": [
      "\u001b[0;36m  File \u001b[0;32m\"<ipython-input-30-64912749c73f>\"\u001b[0;36m, line \u001b[0;32m8\u001b[0m\n\u001b[0;31m    for i in range(Ntrain)\u001b[0m\n\u001b[0m                          ^\u001b[0m\n\u001b[0;31mSyntaxError\u001b[0m\u001b[0;31m:\u001b[0m invalid syntax\n"
     ]
    }
   ],
   "source": [
    "# Loop over training data and add the following 2 new images\n",
    "# you need to append these flipped images to your training data.\n",
    "# you could convert your training sets back to lists and do append as\n",
    "# as a suggestion\n",
    "\n",
    "# Fill in the necessary code to complete this task\n",
    "\n",
    "for i in range(Ntrain)\n",
    "\n",
    "        xLeft_Right = xtrain[i][:,::-1,:]\n",
    "        xUp_Down = xtrain[i][::-1, :, :]\n",
    "        # add these to your xtrain set and don't forget to also add in their labels to the ytrain"
   ]
  },
  {
   "cell_type": "markdown",
   "metadata": {},
   "source": [
    "# Dense Neural Network"
   ]
  },
  {
   "cell_type": "code",
   "execution_count": 31,
   "metadata": {},
   "outputs": [
    {
     "name": "stdout",
     "output_type": "stream",
     "text": [
      "Model: \"model_2\"\n",
      "_________________________________________________________________\n",
      "Layer (type)                 Output Shape              Param #   \n",
      "=================================================================\n",
      "input_2 (InputLayer)         (None, 32, 32, 1)         0         \n",
      "_________________________________________________________________\n",
      "flatten_2 (Flatten)          (None, 1024)              0         \n",
      "_________________________________________________________________\n",
      "dense_4 (Dense)              (None, 512)               524800    \n",
      "_________________________________________________________________\n",
      "activation_4 (Activation)    (None, 512)               0         \n",
      "_________________________________________________________________\n",
      "dropout_3 (Dropout)          (None, 512)               0         \n",
      "_________________________________________________________________\n",
      "dense_5 (Dense)              (None, 256)               131328    \n",
      "_________________________________________________________________\n",
      "activation_5 (Activation)    (None, 256)               0         \n",
      "_________________________________________________________________\n",
      "dropout_4 (Dropout)          (None, 256)               0         \n",
      "_________________________________________________________________\n",
      "dense_6 (Dense)              (None, 1)                 257       \n",
      "_________________________________________________________________\n",
      "activation_6 (Activation)    (None, 1)                 0         \n",
      "=================================================================\n",
      "Total params: 656,385\n",
      "Trainable params: 656,385\n",
      "Non-trainable params: 0\n",
      "_________________________________________________________________\n"
     ]
    }
   ],
   "source": [
    "#DNN\n",
    "\n",
    "L = 32 # set the value of the image size\n",
    "\n",
    "inputs = Input(shape=(L,L,1))   # input layer.  Shape is the shape of the input\n",
    "\n",
    "x = Flatten()(inputs)      # need to flatten the 2D into 1D vector of L*L elements\n",
    "\n",
    "x = Dense(512)(x)              # first dense layer has 512 neurons\n",
    "x = Activation('relu')(x)      # ReLU activation\n",
    "x = Dropout(0.5)(x)            # Dropout layer - drops neurons at random at training to minimize overfitting\n",
    "\n",
    "x = Dense(256)(x)             # 2nd dense layer block, has 256 neurons\n",
    "x = Activation('relu')(x)\n",
    "x = Dropout(0.5)(x)\n",
    "\n",
    "x = Dense(1)(x)                   # Final output neuron (single neuron for binary classification)\n",
    "outputs = Activation('sigmoid')(x)      # sigmoid so that output is (0 -> 1)\n",
    "\n",
    "model = Model(inputs = inputs, outputs = outputs)      # puts all the layers together into a Keras Model\n",
    "\n",
    "sgd = optimizers.SGD(lr=0.01)         # choose stochastic gradient descent.  lr = learning rate\n",
    "\n",
    "# model.compile(optimizer='adam',loss='binary_crossentropy', metrics=['accuracy'])\n",
    "model.compile(optimizer=sgd,loss='binary_crossentropy', metrics=['accuracy'])\n",
    "model.summary()\n",
    "\n",
    "\n",
    "# Early stopping criterion for stopping the fitting.  Monitor's the validation loss and will stop\n",
    "# when the number of epochs where it increases = 'patience'\n",
    "early_stopping = EarlyStopping(monitor='val_loss', patience=3)"
   ]
  },
  {
   "cell_type": "markdown",
   "metadata": {},
   "source": [
    "This model has 656,385 parameters"
   ]
  },
  {
   "cell_type": "code",
   "execution_count": 32,
   "metadata": {},
   "outputs": [
    {
     "name": "stdout",
     "output_type": "stream",
     "text": [
      "WARNING:tensorflow:From /opt/conda/lib/python3.7/site-packages/tensorflow/python/ops/math_ops.py:3066: to_int32 (from tensorflow.python.ops.math_ops) is deprecated and will be removed in a future version.\n",
      "Instructions for updating:\n",
      "Use tf.cast instead.\n",
      "Train on 4900 samples, validate on 1050 samples\n",
      "Epoch 1/20\n",
      "4900/4900 [==============================] - 3s 580us/step - loss: 0.5287 - accuracy: 0.7537 - val_loss: 0.4892 - val_accuracy: 0.7705\n",
      "Epoch 2/20\n",
      "4900/4900 [==============================] - 3s 550us/step - loss: 0.4524 - accuracy: 0.7937 - val_loss: 0.4505 - val_accuracy: 0.7886\n",
      "Epoch 3/20\n",
      "4900/4900 [==============================] - 3s 534us/step - loss: 0.4359 - accuracy: 0.7990 - val_loss: 0.4409 - val_accuracy: 0.7981\n",
      "Epoch 4/20\n",
      "4900/4900 [==============================] - 3s 531us/step - loss: 0.4347 - accuracy: 0.7998 - val_loss: 0.4741 - val_accuracy: 0.7790\n",
      "Epoch 5/20\n",
      "4900/4900 [==============================] - 3s 551us/step - loss: 0.4231 - accuracy: 0.8043 - val_loss: 0.4491 - val_accuracy: 0.7914\n",
      "Epoch 6/20\n",
      "4900/4900 [==============================] - 3s 564us/step - loss: 0.4175 - accuracy: 0.8080 - val_loss: 0.4422 - val_accuracy: 0.7962\n"
     ]
    }
   ],
   "source": [
    "#  fit the model\n",
    "history = model.fit(xtrain, ytrain, validation_data=[xvalid, yvalid], batch_size=32, epochs =20,callbacks=[early_stopping])"
   ]
  },
  {
   "cell_type": "code",
   "execution_count": 33,
   "metadata": {},
   "outputs": [
    {
     "name": "stdout",
     "output_type": "stream",
     "text": [
      "1050/1050 [==============================] - 0s 195us/step\n"
     ]
    },
    {
     "data": {
      "text/plain": [
       "[0.43059472311110725, 0.7952380776405334]"
      ]
     },
     "execution_count": 33,
     "metadata": {},
     "output_type": "execute_result"
    }
   ],
   "source": [
    "# Evaluate the fitted model on the test set.  What is the accuracy and loss?\n",
    "model.evaluate(xtest, ytest)"
   ]
  },
  {
   "cell_type": "markdown",
   "metadata": {},
   "source": [
    "We have ~80% accuracy"
   ]
  },
  {
   "cell_type": "code",
   "execution_count": 36,
   "metadata": {},
   "outputs": [],
   "source": [
    "# predict the probabilites of the category on the test set\n",
    "yp = model.predict(xtest)"
   ]
  },
  {
   "cell_type": "code",
   "execution_count": 37,
   "metadata": {},
   "outputs": [
    {
     "data": {
      "text/plain": [
       "<matplotlib.collections.PathCollection at 0x7f4e1c7915d0>"
      ]
     },
     "execution_count": 37,
     "metadata": {},
     "output_type": "execute_result"
    },
    {
     "data": {
      "image/png": "[encoded data removed]",
      "text/plain": [
       "<Figure size 432x288 with 1 Axes>"
      ]
     },
     "metadata": {
      "needs_background": "light"
     },
     "output_type": "display_data"
    }
   ],
   "source": [
    "scatter(ytest,yp,s=1)"
   ]
  },
  {
   "cell_type": "markdown",
   "metadata": {},
   "source": [
    "So output if our neural net is P(Y=1), a probability."
   ]
  },
  {
   "cell_type": "code",
   "execution_count": 38,
   "metadata": {},
   "outputs": [],
   "source": [
    "# Fill in code to make a plot of the average probability vs Temp on the test set\n",
    "\n",
    "Ts= unique(Temps)\n",
    "pavg =[]\n",
    "\n",
    "for T in Ts:\n",
    "    ii = where(Ttest==T)[0] #all idxs where temperature at T\n",
    "    pavg.append(mean(yp[ii]))"
   ]
  },
  {
   "cell_type": "code",
   "execution_count": 42,
   "metadata": {},
   "outputs": [
    {
     "data": {
      "text/plain": [
       "[<matplotlib.lines.Line2D at 0x7f4db5204150>]"
      ]
     },
     "execution_count": 42,
     "metadata": {},
     "output_type": "execute_result"
    },
    {
     "data": {
      "image/png": "[encoded data removed]",
      "text/plain": [
       "<Figure size 432x288 with 1 Axes>"
      ]
     },
     "metadata": {
      "needs_background": "light"
     },
     "output_type": "display_data"
    }
   ],
   "source": [
    "plot(Ts,pavg,'.-')\n",
    "ylabel('probability < Tc')\n",
    "xlabel(\"temperature\")\n",
    "\n",
    "plot([2.27,2.27],[0,1],'c--')"
   ]
  },
  {
   "cell_type": "markdown",
   "metadata": {},
   "source": [
    "the plot shows that our DNN can predict reasonablywell wheather an image at a given temperature is above or below"
   ]
  },
  {
   "cell_type": "markdown",
   "metadata": {},
   "source": [
    "# Convolutional Neural Network (CNN)"
   ]
  },
  {
   "cell_type": "code",
   "execution_count": 43,
   "metadata": {},
   "outputs": [
    {
     "name": "stdout",
     "output_type": "stream",
     "text": [
      "Model: \"model_3\"\n",
      "_________________________________________________________________\n",
      "Layer (type)                 Output Shape              Param #   \n",
      "=================================================================\n",
      "input_3 (InputLayer)         (None, 32, 32, 1)         0         \n",
      "_________________________________________________________________\n",
      "C1d (Conv2D)                 (None, 31, 31, 16)        80        \n",
      "_________________________________________________________________\n",
      "activation_7 (Activation)    (None, 31, 31, 16)        0         \n",
      "_________________________________________________________________\n",
      "max_pooling2d_1 (MaxPooling2 (None, 15, 15, 16)        0         \n",
      "_________________________________________________________________\n",
      "conv2d_1 (Conv2D)            (None, 14, 14, 16)        1040      \n",
      "_________________________________________________________________\n",
      "activation_8 (Activation)    (None, 14, 14, 16)        0         \n",
      "_________________________________________________________________\n",
      "max_pooling2d_2 (MaxPooling2 (None, 7, 7, 16)          0         \n",
      "_________________________________________________________________\n",
      "conv2d_2 (Conv2D)            (None, 6, 6, 32)          2080      \n",
      "_________________________________________________________________\n",
      "activation_9 (Activation)    (None, 6, 6, 32)          0         \n",
      "_________________________________________________________________\n",
      "max_pooling2d_3 (MaxPooling2 (None, 3, 3, 32)          0         \n",
      "_________________________________________________________________\n",
      "flatten_3 (Flatten)          (None, 288)               0         \n",
      "_________________________________________________________________\n",
      "dense_7 (Dense)              (None, 256)               73984     \n",
      "_________________________________________________________________\n",
      "activation_10 (Activation)   (None, 256)               0         \n",
      "_________________________________________________________________\n",
      "dropout_5 (Dropout)          (None, 256)               0         \n",
      "_________________________________________________________________\n",
      "dense_8 (Dense)              (None, 1)                 257       \n",
      "_________________________________________________________________\n",
      "activation_11 (Activation)   (None, 1)                 0         \n",
      "=================================================================\n",
      "Total params: 77,441\n",
      "Trainable params: 77,441\n",
      "Non-trainable params: 0\n",
      "_________________________________________________________________\n"
     ]
    }
   ],
   "source": [
    "# model definitions\n",
    "\n",
    "inputs = Input(shape=(L,L,1))\n",
    "\n",
    "x = Conv2D(16, (2,2), name='C1d')(inputs)                # first convolutional layer block has 16 2x2 filters\n",
    "x = Activation('relu')(x)\n",
    "x = MaxPooling2D(pool_size=(2,2))(x)      # downsamples by 1/2 by taking max value in each 2x2 block\n",
    "\n",
    "x = Conv2D(16, (2,2))(x)                    # 2nd convolutional layer block has 16 2x2 filters\n",
    "x = Activation('relu')(x)\n",
    "x = MaxPooling2D(pool_size=(2,2))(x)\n",
    "\n",
    "x = Conv2D(32, (2,2))(x)                  # 3rd convolutional layer has 32 2x2 filters\n",
    "x = Activation('relu')(x)\n",
    "x = MaxPooling2D(pool_size=(2,2))(x)\n",
    "\n",
    "x = Flatten()(x)                         # flatten the extracted featureset from CNN layers # how many are there?\n",
    "\n",
    "\n",
    "x = Dense(256)(x)                       # Last block carries out the classification using a Dense layer\n",
    "x = Activation('relu')(x)\n",
    "x = Dropout(0.5)(x)\n",
    "\n",
    "x = Dense(1)(x)                         # Final output neuron as before\n",
    "outputs = Activation('sigmoid')(x)\n",
    "\n",
    "model = Model(inputs = inputs, outputs = outputs)\n",
    "\n",
    "sgd = optimizers.SGD(lr=0.01)\n",
    "# model.compile(optimizer='adam',loss='binary_crossentropy', metrics=['accuracy'])\n",
    "model.compile(optimizer=sgd,loss='binary_crossentropy', metrics=['accuracy'])\n",
    "model.summary()\n",
    "\n",
    "early_stopping = EarlyStopping(monitor='val_loss', patience=3)"
   ]
  },
  {
   "cell_type": "code",
   "execution_count": 44,
   "metadata": {},
   "outputs": [
    {
     "data": {
      "text/plain": [
       "(2,)"
      ]
     },
     "execution_count": 44,
     "metadata": {},
     "output_type": "execute_result"
    }
   ],
   "source": [
    "#get trained filters from 1st Conv2D layer\n",
    "\n",
    "filters = model.get_layer(\"C1d\").get_weights()\n",
    "shape(filters)"
   ]
  },
  {
   "cell_type": "code",
   "execution_count": 45,
   "metadata": {},
   "outputs": [
    {
     "name": "stdout",
     "output_type": "stream",
     "text": [
      "Train on 4900 samples, validate on 1050 samples\n",
      "Epoch 1/20\n",
      "4900/4900 [==============================] - 7s 1ms/step - loss: 0.6162 - accuracy: 0.6647 - val_loss: 0.5114 - val_accuracy: 0.7971\n",
      "Epoch 2/20\n",
      "4900/4900 [==============================] - 6s 1ms/step - loss: 0.4490 - accuracy: 0.7967 - val_loss: 0.4263 - val_accuracy: 0.7876\n",
      "Epoch 3/20\n",
      "4900/4900 [==============================] - 5s 1ms/step - loss: 0.4155 - accuracy: 0.7980 - val_loss: 0.4215 - val_accuracy: 0.8000\n",
      "Epoch 4/20\n",
      "4900/4900 [==============================] - 5s 1ms/step - loss: 0.4020 - accuracy: 0.8078 - val_loss: 0.4787 - val_accuracy: 0.7590\n",
      "Epoch 5/20\n",
      "4900/4900 [==============================] - 5s 1ms/step - loss: 0.3961 - accuracy: 0.8118 - val_loss: 0.4320 - val_accuracy: 0.7752\n",
      "Epoch 6/20\n",
      "4900/4900 [==============================] - 5s 1ms/step - loss: 0.3919 - accuracy: 0.8092 - val_loss: 0.3941 - val_accuracy: 0.7971\n",
      "Epoch 7/20\n",
      "4900/4900 [==============================] - 5s 1ms/step - loss: 0.3834 - accuracy: 0.8188 - val_loss: 0.4497 - val_accuracy: 0.8010\n",
      "Epoch 8/20\n",
      "4900/4900 [==============================] - 5s 980us/step - loss: 0.3852 - accuracy: 0.8106 - val_loss: 0.4310 - val_accuracy: 0.7743\n",
      "Epoch 9/20\n",
      "4900/4900 [==============================] - 5s 979us/step - loss: 0.3829 - accuracy: 0.8129 - val_loss: 0.3914 - val_accuracy: 0.7943\n",
      "Epoch 10/20\n",
      "4900/4900 [==============================] - 5s 977us/step - loss: 0.3758 - accuracy: 0.8133 - val_loss: 0.4344 - val_accuracy: 0.8038\n",
      "Epoch 11/20\n",
      "4900/4900 [==============================] - 5s 1ms/step - loss: 0.3766 - accuracy: 0.8165 - val_loss: 0.3976 - val_accuracy: 0.7867\n",
      "Epoch 12/20\n",
      "4900/4900 [==============================] - 5s 1ms/step - loss: 0.3790 - accuracy: 0.8127 - val_loss: 0.4102 - val_accuracy: 0.7762\n"
     ]
    }
   ],
   "source": [
    "# fit model\n",
    "history = model.fit(xtrain, ytrain, validation_data=[xvalid, yvalid], batch_size=32, epochs =20,callbacks=[early_stopping], verbose=1)"
   ]
  },
  {
   "cell_type": "code",
   "execution_count": 46,
   "metadata": {},
   "outputs": [
    {
     "name": "stdout",
     "output_type": "stream",
     "text": [
      "1050/1050 [==============================] - 0s 286us/step\n"
     ]
    },
    {
     "data": {
      "text/plain": [
       "[0.38278593852406456, 0.8161904811859131]"
      ]
     },
     "execution_count": 46,
     "metadata": {},
     "output_type": "execute_result"
    }
   ],
   "source": [
    "model.evaluate(xtest, ytest)"
   ]
  },
  {
   "cell_type": "code",
   "execution_count": 47,
   "metadata": {},
   "outputs": [],
   "source": [
    "py = model.predict(xtest)"
   ]
  },
  {
   "cell_type": "code",
   "execution_count": 48,
   "metadata": {},
   "outputs": [
    {
     "data": {
      "text/plain": [
       "<matplotlib.collections.PathCollection at 0x7f4db42215d0>"
      ]
     },
     "execution_count": 48,
     "metadata": {},
     "output_type": "execute_result"
    },
    {
     "data": {
      "image/png": "[encoded data removed]",
      "text/plain": [
       "<Figure size 432x288 with 1 Axes>"
      ]
     },
     "metadata": {
      "needs_background": "light"
     },
     "output_type": "display_data"
    }
   ],
   "source": [
    "scatter(ytest,py,s=1)"
   ]
  },
  {
   "cell_type": "code",
   "execution_count": 51,
   "metadata": {},
   "outputs": [
    {
     "data": {
      "text/plain": [
       "[<matplotlib.lines.Line2D at 0x7f4db411d790>]"
      ]
     },
     "execution_count": 51,
     "metadata": {},
     "output_type": "execute_result"
    },
    {
     "data": {
      "image/png": "[encoded data removed]",
      "text/plain": [
       "<Figure size 432x288 with 1 Axes>"
      ]
     },
     "metadata": {
      "needs_background": "light"
     },
     "output_type": "display_data"
    }
   ],
   "source": [
    "# make plot of average probability vs temp for test set\n",
    "\n",
    "# Fill in code to make a plot of the average probability vs Temp on the test set\n",
    "\n",
    "Ts= unique(Temps)\n",
    "pavg =[]\n",
    "\n",
    "for T in Ts:\n",
    "    ii = where(Ttest==T)[0] #all idxs where temperature at T\n",
    "    pavg.append(mean(py[ii]))\n",
    "    \n",
    "plot(Ts,pavg,'.-')\n",
    "ylabel('probability < Tc')\n",
    "xlabel(\"temperature\")\n",
    "\n",
    "plot([2.27,2.27],[0,1],'c--')"
   ]
  },
  {
   "cell_type": "markdown",
   "metadata": {},
   "source": [
    "It looks better thatn DNN "
   ]
  },
  {
   "cell_type": "code",
   "execution_count": 116,
   "metadata": {},
   "outputs": [
    {
     "name": "stdout",
     "output_type": "stream",
     "text": [
      "(2, 2, 1, 16)\n"
     ]
    },
    {
     "data": {
      "image/png": "[encoded data removed]",
      "text/plain": [
       "<Figure size 432x288 with 16 Axes>"
      ]
     },
     "metadata": {
      "needs_background": "light"
     },
     "output_type": "display_data"
    }
   ],
   "source": [
    "# make some plots showing the learned 2x2 filters.\n",
    "filters = model.get_layer(\"C1d\").get_weights()\n",
    "print(shape(filters[0]))\n",
    "\n",
    "for i in range(16):\n",
    "    subplot(4,4,i+1)\n",
    "    imshow(filters[0][:,:,0,i], cmap='coolwarm')"
   ]
  },
  {
   "cell_type": "code",
   "execution_count": null,
   "metadata": {},
   "outputs": [],
   "source": []
  },
  {
   "cell_type": "markdown",
   "metadata": {},
   "source": [
    "# non-Ising model"
   ]
  },
  {
   "cell_type": "markdown",
   "metadata": {},
   "source": [
    "Use the fitted CNN (or DNN if you want) to make predictions on data from configurations generated by a unknown model that displays a phase transition.  See activity guide for instructions."
   ]
  },
  {
   "cell_type": "code",
   "execution_count": 62,
   "metadata": {},
   "outputs": [],
   "source": [
    "import glob"
   ]
  },
  {
   "cell_type": "code",
   "execution_count": 108,
   "metadata": {},
   "outputs": [],
   "source": [
    "#flist=glob.glob('img/*.dat')\n",
    "#len(flist)\n",
    "#flist[:10]\n"
   ]
  },
  {
   "cell_type": "code",
   "execution_count": 109,
   "metadata": {},
   "outputs": [
    {
     "name": "stdout",
     "output_type": "stream",
     "text": [
      "(6000, 32, 32, 1)\n"
     ]
    }
   ],
   "source": [
    "L = 32  # images are LxL.  I opened one to figure out L.\n",
    "\n",
    "Xn = []   # the 2D image files\n",
    "Tn = []   # Temperature that each image was taken at\n",
    "\n",
    "Ts = [2.0, 2.5, 2.6, 2.7, 2.8, 2.9, 3.0, 3.1, 3.2, 3.3, 3.4, 3.5]\n",
    "N = 500   # there are 501 .dat files in each Temperature\n",
    "\n",
    "\n",
    "for T in Ts:\n",
    "    for i in range(N):\n",
    "        x = genfromtxt('nonIsing/T'+str(T)+'/img'+str(i+1)+'.dat')\n",
    "        x = reshape(x, (L,L,1))\n",
    "        Xn.append(x)\n",
    "        Tn.append(T)\n",
    "# convert X, Y, Temps into arrays\n",
    "Xn = array(Xn)\n",
    "Tn = array(Tn)\n",
    "# print out shape of X.  They should be of shape (Nimage, L, L, 1)\n",
    "print(shape(Xn))"
   ]
  },
  {
   "cell_type": "code",
   "execution_count": 101,
   "metadata": {},
   "outputs": [],
   "source": [
    "py = model.predict(Xn)"
   ]
  },
  {
   "cell_type": "code",
   "execution_count": 95,
   "metadata": {},
   "outputs": [
    {
     "data": {
      "text/plain": [
       "Text(0.5, 0, 'T')"
      ]
     },
     "execution_count": 95,
     "metadata": {},
     "output_type": "execute_result"
    },
    {
     "data": {
      "image/png": "[encoded data removed]",
      "text/plain": [
       "<Figure size 432x288 with 1 Axes>"
      ]
     },
     "metadata": {
      "needs_background": "light"
     },
     "output_type": "display_data"
    }
   ],
   "source": [
    "# Fill in code to make a plot of the average probability vs Temp on the test set\n",
    "Ts = unique(Tn)\n",
    "pavg = []\n",
    "for T in Ts:\n",
    "    ii = where(Tn==T)[0]\n",
    "    pavg.append(mean(py[ii]))\n",
    "plot(Ts, pavg, '.-')\n",
    "plot([2.0, 3.5], [0.5, 0.5], 'g--')\n",
    "ylabel('<p>')\n",
    "xlabel('T')"
   ]
  },
  {
   "cell_type": "code",
   "execution_count": null,
   "metadata": {},
   "outputs": [],
   "source": []
  }
 ],
 "metadata": {
  "anaconda-cloud": {},
  "kernelspec": {
   "display_name": "Python 3",
   "language": "python",
   "name": "python3"
  },
  "language_info": {
   "codemirror_mode": {
    "name": "ipython",
    "version": 3
   },
   "file_extension": ".py",
   "mimetype": "text/x-python",
   "name": "python",
   "nbconvert_exporter": "python",
   "pygments_lexer": "ipython3",
   "version": "3.7.6"
  }
 },
 "nbformat": 4,
 "nbformat_minor": 1
}
