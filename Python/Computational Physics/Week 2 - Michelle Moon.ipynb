{
 "cells": [
  {
   "cell_type": "code",
   "execution_count": 2,
   "metadata": {},
   "outputs": [
    {
     "name": "stdout",
     "output_type": "stream",
     "text": [
      "Populating the interactive namespace from numpy and matplotlib\n"
     ]
    }
   ],
   "source": [
    "%pylab inline"
   ]
  },
  {
   "cell_type": "markdown",
   "metadata": {},
   "source": [
    "# 1. Numerical error"
   ]
  },
  {
   "cell_type": "markdown",
   "metadata": {},
   "source": [
    "## Types of error"
   ]
  },
  {
   "cell_type": "markdown",
   "metadata": {},
   "source": [
    "1. Truncation error: caused by approximating a mathematical process.\n",
    "(based on ideas from WIkipedia on https://en.wikipedia.org/wiki/Truncation_error)"
   ]
  },
  {
   "cell_type": "code",
   "execution_count": null,
   "metadata": {},
   "outputs": [],
   "source": [
    "# mathematical example of truncation error\n"
   ]
  },
  {
   "cell_type": "markdown",
   "metadata": {},
   "source": [
    "2. rounding error: "
   ]
  },
  {
   "cell_type": "code",
   "execution_count": 1,
   "metadata": {},
   "outputs": [
    {
     "name": "stdout",
     "output_type": "stream",
     "text": [
      "2.220446049250313e-16\n"
     ]
    }
   ],
   "source": [
    "# machine epsilon\n",
    "\n",
    "# calculate 7./3-4./3-1\n",
    "\n",
    "result= 7./3-4./3-1\n",
    "\n",
    "print(result)"
   ]
  },
  {
   "cell_type": "markdown",
   "metadata": {},
   "source": [
    "# 2. Numerical Integration"
   ]
  },
  {
   "cell_type": "code",
   "execution_count": 13,
   "metadata": {},
   "outputs": [],
   "source": [
    "#define left reiman sum\n",
    "\n",
    "def lsum(f,h): #f is an array evaluated at first N points\n",
    "    return sum(f*h)"
   ]
  },
  {
   "cell_type": "code",
   "execution_count": 4,
   "metadata": {},
   "outputs": [
    {
     "data": {
      "text/plain": [
       "array([1.e+01, 1.e+02, 1.e+03, 1.e+04, 1.e+05, 1.e+06])"
      ]
     },
     "execution_count": 4,
     "metadata": {},
     "output_type": "execute_result"
    }
   ],
   "source": [
    "logspace(1, 6, num=6, endpoint=True, base=10.0, dtype=None, axis=0)"
   ]
  },
  {
   "cell_type": "code",
   "execution_count": 27,
   "metadata": {},
   "outputs": [],
   "source": [
    "#integrate sin(x) over 0 <=x <= pi/2 using different # of slices\n",
    "Nslices = array(logspace(1, 6, num=6, base=10.0, dtype=None, axis=0),int)\n",
    "#Nslices = [10**1,10**2,10**3,10**4,10**5,10**6]\n",
    "hs=[]\n",
    "errs=[]\n",
    "\n",
    "for N in Nslices:\n",
    "    h=0.5*pi/N\n",
    "    hs.append(h)\n",
    "    xs = linspace (0,0.5*pi,N+1)\n",
    "    fs = sin(xs[:N])\n",
    "    rslt =lsum(fs,h)\n",
    "    \n",
    "    error = abs(1.0-rslt)\n",
    "    errs.append(error)"
   ]
  },
  {
   "cell_type": "code",
   "execution_count": 28,
   "metadata": {},
   "outputs": [
    {
     "data": {
      "text/plain": [
       "Text(0, 0.5, 'absolute error')"
      ]
     },
     "execution_count": 28,
     "metadata": {},
     "output_type": "execute_result"
    },
    {
     "data": {
      "image/png": "[encoded data removed]",
      "text/plain": [
       "<Figure size 432x288 with 1 Axes>"
      ]
     },
     "metadata": {
      "needs_background": "light"
     },
     "output_type": "display_data"
    }
   ],
   "source": [
    "plot(hs,errs,'.')\n",
    "xscale('log')\n",
    "yscale('log')\n",
    "xlabel('h')\n",
    "ylabel('absolute error')"
   ]
  },
  {
   "cell_type": "code",
   "execution_count": 25,
   "metadata": {},
   "outputs": [
    {
     "data": {
      "text/plain": [
       "array([ 1.00170415, -0.67538975])"
      ]
     },
     "execution_count": 25,
     "metadata": {},
     "output_type": "execute_result"
    }
   ],
   "source": [
    "polyfit(log(hs),log(errs),1)"
   ]
  },
  {
   "cell_type": "markdown",
   "metadata": {},
   "source": [
    "fit slope is about 1.o so error goes as h^1.\n",
    "to get an error of 1e-8, that gives h approximately "
   ]
  },
  {
   "cell_type": "markdown",
   "metadata": {},
   "source": [
    "## Trapezoid Rule"
   ]
  },
  {
   "cell_type": "code",
   "execution_count": 7,
   "metadata": {},
   "outputs": [],
   "source": [
    "import scipy.integrate as integrate"
   ]
  },
  {
   "cell_type": "code",
   "execution_count": 42,
   "metadata": {},
   "outputs": [],
   "source": [
    "#integrate sin(x) over 0 <=x <= pi/2 using different # of slices\n",
    "Nslices = array(logspace(1, 6, num=6, base=10.0, dtype=None, axis=0),int)\n",
    "#Nslices = [10**1,10**2,10**3,10**4,10**5,10**6]\n",
    "hs=[]\n",
    "errs=[]\n",
    "\n",
    "for N in Nslices:\n",
    "    h=0.5*pi/N\n",
    "    hs.append(h)\n",
    "    xs = linspace (0,0.5*pi,N)\n",
    "    fs = sin(xs[:N])\n",
    "    rslt =integrate.trapz(fs,xs)\n",
    "    \n",
    "    error = abs(1.0-rslt)\n",
    "    errs.append(error)"
   ]
  },
  {
   "cell_type": "code",
   "execution_count": 43,
   "metadata": {},
   "outputs": [
    {
     "data": {
      "text/plain": [
       "Text(0, 0.5, 'absolute error')"
      ]
     },
     "execution_count": 43,
     "metadata": {},
     "output_type": "execute_result"
    },
    {
     "data": {
      "image/png": "[encoded data removed]",
      "text/plain": [
       "<Figure size 432x288 with 1 Axes>"
      ]
     },
     "metadata": {
      "needs_background": "light"
     },
     "output_type": "display_data"
    }
   ],
   "source": [
    "plot(hs,errs,'.')\n",
    "xscale('log')\n",
    "yscale('log')\n",
    "xlabel('h')\n",
    "ylabel('absolute error')"
   ]
  },
  {
   "cell_type": "code",
   "execution_count": 44,
   "metadata": {},
   "outputs": [
    {
     "data": {
      "text/plain": [
       "array([ 2.01384261, -2.34058634])"
      ]
     },
     "execution_count": 44,
     "metadata": {},
     "output_type": "execute_result"
    }
   ],
   "source": [
    "polyfit(log(hs),log(errs),1)"
   ]
  },
  {
   "cell_type": "markdown",
   "metadata": {},
   "source": [
    "fit slope is about 2.o so error goes as h^2.\n",
    "to get an error of 1e-8, that gives h approximately "
   ]
  },
  {
   "cell_type": "markdown",
   "metadata": {},
   "source": [
    "## Simpson's rule"
   ]
  },
  {
   "cell_type": "code",
   "execution_count": 54,
   "metadata": {},
   "outputs": [],
   "source": [
    "#integrate sin(x) over 0 <=x <= pi/2 using different # of slices\n",
    "Nslices = array(logspace(1, 9, num=9, base=2.0, dtype=None, axis=0),int)\n",
    "#Nslices = [2**1,2**2,2**3,...,2**7,10**8,10**9]\n",
    "hs=[]\n",
    "errs=[]\n",
    "\n",
    "for N in Nslices:\n",
    "    h=0.5*pi/N\n",
    "    hs.append(h)\n",
    "    xs = linspace (0,0.5*pi,N)\n",
    "    fs = sin(xs[:N])\n",
    "    rslt =integrate.simps(fs,xs)\n",
    "    \n",
    "    error = abs(1.0-rslt)\n",
    "    errs.append(error)"
   ]
  },
  {
   "cell_type": "code",
   "execution_count": 55,
   "metadata": {},
   "outputs": [
    {
     "data": {
      "text/plain": [
       "Text(0, 0.5, 'absolute error')"
      ]
     },
     "execution_count": 55,
     "metadata": {},
     "output_type": "execute_result"
    },
    {
     "data": {
      "image/png": "[encoded data removed]",
      "text/plain": [
       "<Figure size 432x288 with 1 Axes>"
      ]
     },
     "metadata": {
      "needs_background": "light"
     },
     "output_type": "display_data"
    }
   ],
   "source": [
    "plot(hs,errs,'.')\n",
    "xscale('log')\n",
    "yscale('log')\n",
    "xlabel('h')\n",
    "ylabel('absolute error')"
   ]
  },
  {
   "cell_type": "code",
   "execution_count": 56,
   "metadata": {},
   "outputs": [
    {
     "data": {
      "text/plain": [
       "array([ 3.3247767 , -1.72067019])"
      ]
     },
     "execution_count": 56,
     "metadata": {},
     "output_type": "execute_result"
    }
   ],
   "source": [
    "polyfit(log(hs),log(errs),1)"
   ]
  },
  {
   "cell_type": "markdown",
   "metadata": {},
   "source": [
    "fit slope is about 3.3.o so error goes as h^3.3.\n",
    "to get an error of 1e-8, that gives h approximately "
   ]
  },
  {
   "cell_type": "markdown",
   "metadata": {},
   "source": [
    "## Other methods"
   ]
  },
  {
   "cell_type": "code",
   "execution_count": 57,
   "metadata": {},
   "outputs": [],
   "source": [
    "xs=linspace(0,7.1,100)\n",
    "cos=cos(0.5*pi*xs*xs)"
   ]
  },
  {
   "cell_type": "code",
   "execution_count": 63,
   "metadata": {},
   "outputs": [
    {
     "data": {
      "text/plain": [
       "Text(0, 0.5, 'cos($\\\\pi/2$)$x^2$')"
      ]
     },
     "execution_count": 63,
     "metadata": {},
     "output_type": "execute_result"
    },
    {
     "data": {
      "image/png": "[encoded data removed]",
      "text/plain": [
       "<Figure size 432x288 with 1 Axes>"
      ]
     },
     "metadata": {
      "needs_background": "light"
     },
     "output_type": "display_data"
    }
   ],
   "source": [
    "plot(xs,cos)\n",
    "xlabel('x')\n",
    "ylabel('cos($\\pi/2$)$x^2$')"
   ]
  },
  {
   "cell_type": "code",
   "execution_count": 4,
   "metadata": {},
   "outputs": [],
   "source": [
    "import scipy.special as spec"
   ]
  },
  {
   "cell_type": "code",
   "execution_count": 17,
   "metadata": {},
   "outputs": [
    {
     "name": "stdout",
     "output_type": "stream",
     "text": [
      "0.5360173545107794\n"
     ]
    }
   ],
   "source": [
    "S,C= spec.fresnel(7.1)\n",
    "print (S)"
   ]
  },
  {
   "cell_type": "code",
   "execution_count": 43,
   "metadata": {},
   "outputs": [],
   "source": [
    "Nslices = array(logspace(1, 12, num=12, base=2.0, dtype=None, axis=0),int)\n",
    "\n",
    "S,C= spec.fresnel(7.1)\n",
    "x0=0\n",
    "xf=7.1\n",
    "hs=[]\n",
    "errs=[]\n",
    "\n",
    "for N in Nslices:\n",
    "    h=(xf-x0)/N\n",
    "    hs.append(h)\n",
    "    xs = linspace (0,7.1,N+1)\n",
    "    fs = cos(0.5*pi* xs * xs)\n",
    "    rslt =integrate.simps(fs,xs)\n",
    "    \n",
    "    error = abs(C-rslt)\n",
    "    errs.append(error)"
   ]
  },
  {
   "cell_type": "code",
   "execution_count": 44,
   "metadata": {},
   "outputs": [
    {
     "data": {
      "text/plain": [
       "Text(0, 0.5, 'absolute error')"
      ]
     },
     "execution_count": 44,
     "metadata": {},
     "output_type": "execute_result"
    },
    {
     "data": {
      "image/png": "[encoded data removed]",
      "text/plain": [
       "<Figure size 432x288 with 1 Axes>"
      ]
     },
     "metadata": {
      "needs_background": "light"
     },
     "output_type": "display_data"
    }
   ],
   "source": [
    "plot(hs,errs,'.')\n",
    "xscale('log')\n",
    "yscale('log')\n",
    "xlabel('h')\n",
    "ylabel('absolute error')"
   ]
  },
  {
   "cell_type": "markdown",
   "metadata": {},
   "source": [
    "This shows that methods based on uniform points can be problematic. A method known as Gaussian quadrature  uses non-uniformly spaced points to evaluate the integral."
   ]
  },
  {
   "cell_type": "code",
   "execution_count": 38,
   "metadata": {},
   "outputs": [
    {
     "name": "stdout",
     "output_type": "stream",
     "text": [
      "(0.47349928719096074, None)\n"
     ]
    }
   ],
   "source": [
    "def f(x):\n",
    "    return cos(0.5*pi*x*x) #define the functionfor fixed quad\n",
    "\n",
    "result = integrate.fixed_quad(f,0,7.1,n=35)\n",
    "\n",
    "print(result)"
   ]
  },
  {
   "cell_type": "code",
   "execution_count": 41,
   "metadata": {},
   "outputs": [],
   "source": [
    "Nslices = array(logspace(1, 7, num=7, base=2.0, dtype=None, axis=0),int)\n",
    "\n",
    "x0=0\n",
    "xf=7.1\n",
    "S,C= spec.fresnel(xf)\n",
    "hs=[]\n",
    "errs=[]\n",
    "\n",
    "for N in Nslices:\n",
    "    h=(xf-x0)/N\n",
    "    hs.append(h)\n",
    "   \n",
    "    rslt =integrate.fixed_quad(f,0,7.1,n=N)\n",
    "    \n",
    "    error = abs(C-rslt[0])\n",
    "    errs.append(error)"
   ]
  },
  {
   "cell_type": "code",
   "execution_count": 42,
   "metadata": {},
   "outputs": [
    {
     "data": {
      "text/plain": [
       "Text(0, 0.5, 'absolute error')"
      ]
     },
     "execution_count": 42,
     "metadata": {},
     "output_type": "execute_result"
    },
    {
     "data": {
      "image/png": "[encoded data removed]",
      "text/plain": [
       "<Figure size 432x288 with 1 Axes>"
      ]
     },
     "metadata": {
      "needs_background": "light"
     },
     "output_type": "display_data"
    }
   ],
   "source": [
    "plot(hs,errs,'o')\n",
    "xscale('log')\n",
    "yscale('log')\n",
    "xlabel('h')\n",
    "ylabel('absolute error')"
   ]
  },
  {
   "cell_type": "code",
   "execution_count": 45,
   "metadata": {},
   "outputs": [
    {
     "data": {
      "text/plain": [
       "(0.4733111981263692, 9.812996526470386e-10)"
      ]
     },
     "execution_count": 45,
     "metadata": {},
     "output_type": "execute_result"
    }
   ],
   "source": [
    "integrate.quadrature(f,x0,xf,tol=1e-8)"
   ]
  },
  {
   "cell_type": "code",
   "execution_count": 46,
   "metadata": {},
   "outputs": [
    {
     "data": {
      "text/plain": [
       "(2.5066282746309994, 2.5512942192316024e-08)"
      ]
     },
     "execution_count": 46,
     "metadata": {},
     "output_type": "execute_result"
    }
   ],
   "source": [
    "def f(x):\n",
    "    return exp(-0.5*x*x)\n",
    "integrate.quad(f,-inf,inf,epsabs=1e-8)"
   ]
  },
  {
   "cell_type": "markdown",
   "metadata": {},
   "source": [
    "## Monte Carlo integration\n",
    "\n",
    "The advantage of Monte Carlo sampling is that it can reliably estimate the average with only a few samples. This is particularly useful for integrals in higher dimensions where it is typically the best approach. However, it has drawbacks. If the function is pathological, many samples may be required in order to get the desired tolerance. Another drawback is that it can be horribly inefficient. For example, if we have a function that (unknowingly) happens to be zero over a large part of the domain, we end up wasting time sampling from these regions. This leads to techniques that compensate for this known as importance sampling. "
   ]
  },
  {
   "cell_type": "code",
   "execution_count": 55,
   "metadata": {},
   "outputs": [],
   "source": [
    "Nslices = array(logspace(1, 7, num=7, base=10.0, dtype=None, axis=0),int)\n",
    "\n",
    "def f(x):\n",
    "    return cos(0.5*pi*x*x)\n",
    "\n",
    "x0=0\n",
    "xf=7.1\n",
    "S,C=spec.fresnel(xf)\n",
    "errs=[]\n",
    "for N in Nslices:\n",
    "    xs = x0+(xf-x0)*random.random(N) #n radom pt between x0 and xf\n",
    "    fs = f(xs)\n",
    "    rslt =(xf-x0)*mean(fs)\n",
    "    \n",
    "    error = abs(C-rslt)\n",
    "    errs.append(error)"
   ]
  },
  {
   "cell_type": "code",
   "execution_count": 56,
   "metadata": {},
   "outputs": [
    {
     "data": {
      "text/plain": [
       "Text(0, 0.5, 'absolute error')"
      ]
     },
     "execution_count": 56,
     "metadata": {},
     "output_type": "execute_result"
    },
    {
     "data": {
      "image/png": "[encoded data removed]",
      "text/plain": [
       "<Figure size 432x288 with 1 Axes>"
      ]
     },
     "metadata": {
      "needs_background": "light"
     },
     "output_type": "display_data"
    }
   ],
   "source": [
    "plot(Nslices,errs,'.')\n",
    "xscale('log')\n",
    "yscale('log')\n",
    "xlabel('N')\n",
    "ylabel('absolute error')"
   ]
  },
  {
   "cell_type": "markdown",
   "metadata": {},
   "source": [
    "# Numerical differentiation"
   ]
  },
  {
   "cell_type": "markdown",
   "metadata": {},
   "source": [
    "## ODE"
   ]
  },
  {
   "cell_type": "markdown",
   "metadata": {},
   "source": [
    "## Euler method"
   ]
  },
  {
   "cell_type": "code",
   "execution_count": 82,
   "metadata": {},
   "outputs": [],
   "source": [
    "h0= 1\n",
    "v0=5\n",
    "g=9.81\n",
    "yi=[]\n",
    "time=[]\n",
    "for t in range(0,2,1):\n",
    "    y=h0+v0*t+ 0.5*-g*t**2\n",
    "    yi.append(y)\n",
    "    time.append(t)"
   ]
  },
  {
   "cell_type": "code",
   "execution_count": 83,
   "metadata": {},
   "outputs": [
    {
     "data": {
      "text/plain": [
       "Text(0, 0.5, 'y(t)')"
      ]
     },
     "execution_count": 83,
     "metadata": {},
     "output_type": "execute_result"
    },
    {
     "data": {
      "image/png": "[encoded data removed]",
      "text/plain": [
       "<Figure size 432x288 with 1 Axes>"
      ]
     },
     "metadata": {
      "needs_background": "light"
     },
     "output_type": "display_data"
    }
   ],
   "source": [
    "plot(time,yi,'.')\n",
    "xlabel('time (s)')\n",
    "ylabel('y(t)')"
   ]
  },
  {
   "cell_type": "code",
   "execution_count": 115,
   "metadata": {},
   "outputs": [
    {
     "data": {
      "text/plain": [
       "Text(0, 0.5, 'displacement(m)')"
      ]
     },
     "execution_count": 115,
     "metadata": {},
     "output_type": "execute_result"
    },
    {
     "data": {
      "image/png": "[encoded data removed]",
      "text/plain": [
       "<Figure size 432x288 with 1 Axes>"
      ]
     },
     "metadata": {
      "needs_background": "light"
     },
     "output_type": "display_data"
    }
   ],
   "source": [
    "deltat=0.01\n",
    "t0=0\n",
    "tf=1\n",
    "yi=1\n",
    "yt=[]\n",
    "time=[]\n",
    "for t in range(0,101):\n",
    "    ti=0\n",
    "    ti+=t*deltat\n",
    "    v=-9.8*deltat\n",
    "    yi+=yi+1*v\n",
    "    yt.append(yi)\n",
    "    time.append(ti)\n",
    "\n",
    "plot(time,yt,'.')\n",
    "xlabel('time')\n",
    "ylabel('displacement(m)')"
   ]
  },
  {
   "cell_type": "markdown",
   "metadata": {},
   "source": [
    "## Better Methods"
   ]
  },
  {
   "cell_type": "code",
   "execution_count": null,
   "metadata": {},
   "outputs": [],
   "source": []
  },
  {
   "cell_type": "markdown",
   "metadata": {},
   "source": [
    "## Applications"
   ]
  },
  {
   "cell_type": "code",
   "execution_count": null,
   "metadata": {},
   "outputs": [],
   "source": []
  }
 ],
 "metadata": {
  "kernelspec": {
   "display_name": "Python 3",
   "language": "python",
   "name": "python3"
  },
  "language_info": {
   "codemirror_mode": {
    "name": "ipython",
    "version": 3
   },
   "file_extension": ".py",
   "mimetype": "text/x-python",
   "name": "python",
   "nbconvert_exporter": "python",
   "pygments_lexer": "ipython3",
   "version": "3.7.6"
  }
 },
 "nbformat": 4,
 "nbformat_minor": 4
}
